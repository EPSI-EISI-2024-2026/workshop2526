{
 "cells": [
  {
   "cell_type": "markdown",
   "id": "7cce9339",
   "metadata": {},
   "source": [
    "# Text Analysis of Harry Potter Saga\n",
    "\n",
    "This notebook implements the \"Trial of J.K. Rowling\" challenge: analyzing character appearances and frequencies in the Harry Potter books."
   ]
  },
  {
   "cell_type": "code",
   "execution_count": 1,
   "id": "1091dab2",
   "metadata": {},
   "outputs": [
    {
     "name": "stderr",
     "output_type": "stream",
     "text": [
      "[nltk_data] Downloading package punkt to /Users/nimzero/nltk_data...\n",
      "[nltk_data]   Package punkt is already up-to-date!\n"
     ]
    },
    {
     "data": {
      "text/plain": [
       "True"
      ]
     },
     "execution_count": 1,
     "metadata": {},
     "output_type": "execute_result"
    }
   ],
   "source": [
    "import os\n",
    "import re\n",
    "import pandas as pd\n",
    "import matplotlib.pyplot as plt\n",
    "import seaborn as sns\n",
    "from collections import Counter\n",
    "import nltk\n",
    "import unicodedata\n",
    "nltk.download('punkt')"
   ]
  },
  {
   "cell_type": "markdown",
   "id": "c6fa6bed",
   "metadata": {},
   "source": [
    "## Define Characters"
   ]
  },
  {
   "cell_type": "code",
   "execution_count": 2,
   "id": "57d261dc",
   "metadata": {},
   "outputs": [],
   "source": [
    "characters = [\n",
    "    'Harry Potter',\n",
    "    'Hermione Granger',\n",
    "    'Ron Weasley',\n",
    "    'Albus Dumbledore',\n",
    "    'Severus Rogue',\n",
    "    'Voldemort',\n",
    "    'Drago Malefoy',\n",
    "    'Neville Londubat',\n",
    "    'Luna Lovegood',\n",
    "    'Ginny Weasley'\n",
    "]\n",
    "\n",
    "# Build regex patterns for each character (French/English variants)\n",
    "character_patterns = {\n",
    "    'Harry Potter': re.compile(r\"\\b(harry|harry\\s+potter|potter)\\b\", re.IGNORECASE),\n",
    "    'Hermione Granger': re.compile(r\"\\b(hermione|hermione\\s+granger|granger)\\b\", re.IGNORECASE),\n",
    "    'Ron Weasley': re.compile(r\"\\b(ron|ron\\s+weasley|weasley)\\b\", re.IGNORECASE),\n",
    "    'Albus Dumbledore': re.compile(r\"\\b(dumbledore|albus|albus\\s+dumbledore)\\b\", re.IGNORECASE),\n",
    "    'Severus Rogue': re.compile(r\"\\b(rogue|snape|severus)\\b\", re.IGNORECASE),\n",
    "    'Voldemort': re.compile(r\"\\b(voldemort|tom\\s+jedusor|vous\\s+savez\\s+qui)\\b\", re.IGNORECASE),\n",
    "    'Drago Malefoy': re.compile(r\"\\b(drago(?![a-z])|draco(?![a-z])|malefoy|malfoy|mal[eé]foy)\\b\", re.IGNORECASE),\n",
    "    'Neville Londubat': re.compile(r\"\\b(neville|neville\\s+londubat|londubat|longbottom)\\b\", re.IGNORECASE),\n",
    "    'Luna Lovegood': re.compile(r\"\\b(luna|luna\\s+lovegood|lovegood)\\b\", re.IGNORECASE),\n",
    "    'Ginny Weasley': re.compile(r\"\\b(ginny|ginny\\s+weasley|weasley)\\b\", re.IGNORECASE),\n",
    "}"
   ]
  },
  {
   "cell_type": "markdown",
   "id": "91c40240",
   "metadata": {},
   "source": [
    "## Load Texts"
   ]
  },
  {
   "cell_type": "code",
   "execution_count": 3,
   "id": "006d39a9",
   "metadata": {},
   "outputs": [],
   "source": [
    "text_dir = '../datasets/texts'\n",
    "books = {}\n",
    "os.makedirs(text_dir, exist_ok=True)\n",
    "pdf_files = [f for f in os.listdir(text_dir) if f.lower().endswith('.pdf')]\n",
    "txt_files = [f for f in os.listdir(text_dir) if f.lower().endswith('.txt')]\n",
    "if pdf_files:\n",
    "    try:\n",
    "        from PyPDF2 import PdfReader\n",
    "    except Exception:\n",
    "        PdfReader = None\n",
    "    for file in pdf_files:\n",
    "        path = os.path.join(text_dir, file)\n",
    "        if PdfReader is None:\n",
    "            print('PyPDF2 not available; skipping PDF', file)\n",
    "            continue\n",
    "        try:\n",
    "            reader = PdfReader(path)\n",
    "            text = ''\n",
    "            for page in reader.pages:\n",
    "                page_text = page.extract_text()\n",
    "                if page_text:\n",
    "                    text += page_text + '\\n'\n",
    "            books[file] = text\n",
    "        except Exception as e:\n",
    "            print(f'Failed to read PDF {file}: {e}')\n",
    "elif txt_files:\n",
    "    for file in txt_files:\n",
    "        with open(os.path.join(text_dir, file), 'r', encoding='utf-8') as f:\n",
    "            books[file] = f.read()\n",
    "else:\n",
    "    print('No PDF or TXT files found in datasets/texts. Add book texts to run full analysis.')"
   ]
  },
  {
   "cell_type": "code",
   "execution_count": 4,
   "id": "b65b6d25",
   "metadata": {},
   "outputs": [
    {
     "name": "stdout",
     "output_type": "stream",
     "text": [
      "Total mentions computed for characters:\n",
      " Harry Potter        18218\n",
      "Hermione Granger     5381\n",
      "Ron Weasley          7632\n",
      "Albus Dumbledore     3369\n",
      "Severus Rogue        1892\n",
      "Voldemort            1212\n",
      "Drago Malefoy        1542\n",
      "Neville Londubat      790\n",
      "Luna Lovegood         421\n",
      "Ginny Weasley        2382\n",
      "dtype: int64\n"
     ]
    }
   ],
   "source": [
    "# Normalize helper\n",
    "def normalize_text(s):\n",
    "    if not s:\n",
    "        return ''\n",
    "    s = unicodedata.normalize('NFKD', s)\n",
    "    s = ''.join(c for c in s if not unicodedata.combining(c))\n",
    "    s = re.sub(r'\\s+', ' ', s)\n",
    "    return s\n",
    "\n",
    "# Per book analysis using character_patterns\n",
    "book_data = []\n",
    "for book_name, text in books.items():\n",
    "    book_mentions = {}\n",
    "    norm_text = normalize_text(text).lower() if text else ''\n",
    "    for char, pattern in character_patterns.items():\n",
    "        try:\n",
    "            count = len(pattern.findall(norm_text))\n",
    "        except Exception:\n",
    "            count = 0\n",
    "        book_mentions[char] = count\n",
    "    book_mentions['Book'] = book_name\n",
    "    book_data.append(book_mentions)\n",
    "\n",
    "df_books = pd.DataFrame(book_data)\n",
    "if 'Book' in df_books.columns:\n",
    "    df_books = df_books.set_index('Book')\n",
    "else:\n",
    "    df_books.index = list(books.keys())\n",
    "\n",
    "# Total mentions\n",
    "total_mentions = df_books.sum() if not df_books.empty else pd.Series()\n",
    "print('Total mentions computed for characters:\\n', total_mentions)\n",
    "\n",
    "# Save basic visualizations\n",
    "import matplotlib\n",
    "matplotlib.use('Agg')\n",
    "os.makedirs('../visualizations', exist_ok=True)\n",
    "if not total_mentions.empty:\n",
    "    plt.figure(figsize=(12, 6))\n",
    "    total_mentions.sort_values(ascending=False).plot(kind='bar')\n",
    "    plt.title('Total Character Mentions Across All Books')\n",
    "    plt.xlabel('Character')\n",
    "    plt.ylabel('Mentions')\n",
    "    plt.xticks(rotation=45)\n",
    "    plt.tight_layout()\n",
    "    plt.savefig('../visualizations/total_mentions.png')\n",
    "    plt.close()\n",
    "\n",
    "# Heatmap per book (if multiple books)\n",
    "if df_books.shape[0] > 0:\n",
    "    plt.figure(figsize=(12, 8))\n",
    "    sns.heatmap(df_books.T, annot=True, fmt='d', cmap='YlOrRd')\n",
    "    plt.title('Character Mentions Per Book')\n",
    "    plt.xlabel('Book')\n",
    "    plt.ylabel('Character')\n",
    "    plt.tight_layout()\n",
    "    plt.savefig('../visualizations/mentions_per_book.png')\n",
    "    plt.close()"
   ]
  },
  {
   "cell_type": "code",
   "execution_count": 5,
   "id": "75a69e13",
   "metadata": {},
   "outputs": [
    {
     "name": "stdout",
     "output_type": "stream",
     "text": [
      "--- Draco ---\n",
      "harry-potter-3-le-prisonnier-dazkaban.pdf 0 matches\n",
      "\n",
      "harry-potter-1-lecole-des-sorciers.pdf 1 matches\n",
      "... asse\t?\tdemanda-t-elle. —Caput\tDraconis,\tdit\tPercy\tet\tle\ttabl\n",
      "\n",
      "harry-potter-2-la-chambre-des-secrets.pdf 0 matches\n",
      "\n",
      "harry-potter-4-la-coupe-de-feu.pdf 0 matches\n",
      "\n",
      "harry-potter-7-les-reliques-de-la-mort.pdf 0 matches\n",
      "\n",
      "harry-potter-6-le-prince-de-sang-mecc82lecc81.pdf 0 matches\n",
      "\n",
      "harry-potter-5-lordre-du-phoenix.pdf 0 matches\n",
      "\n",
      "--- Malfoy ---\n",
      "harry-potter-3-le-prisonnier-dazkaban.pdf 0 matches\n",
      "\n",
      "harry-potter-1-lecole-des-sorciers.pdf 0 matches\n",
      "\n",
      "harry-potter-2-la-chambre-des-secrets.pdf 0 matches\n",
      "\n",
      "harry-potter-4-la-coupe-de-feu.pdf 0 matches\n",
      "\n",
      "harry-potter-7-les-reliques-de-la-mort.pdf 0 matches\n",
      "\n",
      "harry-potter-6-le-prince-de-sang-mecc82lecc81.pdf 0 matches\n",
      "\n",
      "harry-potter-5-lordre-du-phoenix.pdf 0 matches\n",
      "\n"
     ]
    }
   ],
   "source": [
    "# Diagnostic: show contexts where Draco or Malfoy appear\n",
    "for name in ['Draco', 'Malfoy']:\n",
    "    print('---', name, '---')\n",
    "    for book, text in books.items():\n",
    "        matches = [m.start() for m in re.finditer(name, text, re.IGNORECASE)]\n",
    "        print(book, len(matches), 'matches')\n",
    "        for i, pos in enumerate(matches[:5]):\n",
    "            start = max(0, pos-30)\n",
    "            end = min(len(text), pos+30)\n",
    "            print('...', text[start:end].replace('\\n', ' '))\n",
    "        print()"
   ]
  },
  {
   "cell_type": "markdown",
   "id": "8b14160d",
   "metadata": {},
   "source": [
    "## Advanced requested analyses\n",
    "\n",
    "This section computes:\\n\n",
    "- How often Harry's scar hurts (heuristic)\\n\n",
    "- Number of times Hermione says a line starting with 'Mais'\\n\n",
    "- Heuristic for Dumbledore decisive actions\\n\n",
    "- Comparison of speaking turns for Harry, Hermione and Ron\\n\n",
    "- Rogue mysterious/dark occurrences\\n\n",
    "- Counts of morally/legally questionable acts\\n\n",
    "- Per-book breakdown and normalization per 100 pages"
   ]
  },
  {
   "cell_type": "code",
   "execution_count": 6,
   "id": "a1606be6",
   "metadata": {},
   "outputs": [
    {
     "name": "stdout",
     "output_type": "stream",
     "text": [
      "Advanced analysis saved to ../reports/advanced_analysis.csv\n",
      "Visualizations saved to ../visualizations/\n"
     ]
    }
   ],
   "source": [
    "# Advanced analysis implementation (cleaned)\n",
    "import os, re\n",
    "from collections import defaultdict\n",
    "import pandas as pd\n",
    "import matplotlib.pyplot as plt\n",
    "import seaborn as sns\n",
    "\n",
    "# Patterns/heuristics\n",
    "scar_p = re.compile(r'\\b(scar|cicatrice)\\b.*?(hurt|hurts|pain|ache|stings|sting|brul|fait mal|douleur)', re.IGNORECASE)\n",
    "scar_alt = re.compile(r'(hurt|pain|ache|stings|sting|brul|fait mal|douleur).*?(scar|cicatrice)', re.IGNORECASE)\n",
    "hermione_mais_p = re.compile(r'(^|\\n)\\s*Mais\\b', re.IGNORECASE | re.MULTILINE)\n",
    "dumbledore_act_p = re.compile(r'\\b(dumbledore|albus)\\b(.{0,120}?)\\b(decid|choose|order|arrang|turn|change|influence|intervene|ordonner|decide|choisit|intervient)', re.IGNORECASE)\n",
    "rogue_dark_p = re.compile(r'\\b(snape|rogue|severus)\\b(.{0,80}?)\\b(mysterious|mysterieux|sinister|sombre|dark|etrange|ambig)', re.IGNORECASE)\n",
    "crime_keywords = [r'kill', r'murder', r'steal', r'torture', r'assault', r'attack', r'poison', r'vol', r'voler', r'assassin', r'assassinat', r'agression', r'attaque', r'meurtr', r'sacrifice', r'kidnap', r'enlevement']\n",
    "crime_p = re.compile('|'.join(crime_keywords), re.IGNORECASE)\n",
    "\n",
    "results = defaultdict(dict)\n",
    "for book_name, text in books.items():\n",
    "    raw = text or ''\n",
    "    norm = normalize_text(raw)\n",
    "    lower = norm.lower()\n",
    "    chars = len(raw)\n",
    "    pages_est = max(1, int(chars / 1800))\n",
    "    scar_count = len(scar_p.findall(lower)) + len(scar_alt.findall(lower))\n",
    "    hermione_mais_count = len(hermione_mais_p.findall(raw))\n",
    "    dumbledore_actions = len(dumbledore_act_p.findall(lower))\n",
    "    rogue_dark = len(rogue_dark_p.findall(lower))\n",
    "    crimes = len(crime_p.findall(lower))\n",
    "    # Speaking turns (crude)\n",
    "    speakers = {'Harry Potter':0, 'Hermione Granger':0, 'Ron Weasley':0}\n",
    "    for qm in re.finditer(r'([\"])(.*?)([\"])', raw, re.DOTALL):\n",
    "        qstart = qm.start()\n",
    "        qend = qm.end()\n",
    "        window = raw[max(0,qstart-200):min(len(raw), qend+200)].lower()\n",
    "        if 'harry' in window or 'potter' in window:\n",
    "            speakers['Harry Potter'] += 1\n",
    "        if 'hermione' in window or 'granger' in window:\n",
    "            speakers['Hermione Granger'] += 1\n",
    "        if re.search(r'\\bron\\b', window) or 'weasley' in window:\n",
    "            speakers['Ron Weasley'] += 1\n",
    "    results[book_name]['scar_count'] = scar_count\n",
    "    results[book_name]['hermione_mais'] = hermione_mais_count\n",
    "    results[book_name]['dumbledore_actions'] = dumbledore_actions\n",
    "    results[book_name]['rogue_dark'] = rogue_dark\n",
    "    results[book_name]['crime_events'] = crimes\n",
    "    results[book_name]['pages_est'] = pages_est\n",
    "    factor = 100.0 / pages_est if pages_est else 1.0\n",
    "    for k in ['scar_count','hermione_mais','dumbledore_actions','rogue_dark','crime_events']:\n",
    "        results[book_name][k + '_per_100_pages'] = round(results[book_name][k] * factor, 2)\n",
    "    for s,v in speakers.items():\n",
    "        results[book_name][s + '_speeches'] = v\n",
    "        results[book_name][s + '_speeches_per_100_pages'] = round(v * factor, 2)\n",
    "\n",
    "df_adv = pd.DataFrame.from_dict(results, orient='index').fillna(0)\n",
    "os.makedirs('../reports', exist_ok=True)\n",
    "df_adv.to_csv('../reports/advanced_analysis.csv')\n",
    "print('Advanced analysis saved to ../reports/advanced_analysis.csv')\n",
    "\n",
    "# Simple visualizations\n",
    "os.makedirs('../visualizations', exist_ok=True)\n",
    "if not df_adv.empty:\n",
    "    totals = df_adv[[c for c in df_adv.columns if c.endswith('_per_100_pages')]].sum().sort_values(ascending=False)\n",
    "    plt.figure(figsize=(10,6))\n",
    "    totals.plot(kind='bar')\n",
    "    plt.title('Totals per 100 pages (all books)')\n",
    "    plt.tight_layout()\n",
    "    plt.savefig('../visualizations/advanced_totals_per_100_pages.png')\n",
    "    plt.close()\n",
    "    speaker_cols = [c for c in df_adv.columns if c.endswith('_speeches') and ('Harry' in c or 'Hermione' in c or 'Ron' in c)]\n",
    "    if speaker_cols:\n",
    "        df_adv[speaker_cols].plot(kind='bar', figsize=(12,6))\n",
    "        plt.title('Speaking turns: Harry vs Hermione vs Ron (per book)')\n",
    "        plt.tight_layout()\n",
    "        plt.savefig('../visualizations/speakers_per_book.png')\n",
    "        plt.close()\n",
    "print('Visualizations saved to ../visualizations/')"
   ]
  },
  {
   "cell_type": "markdown",
   "id": "6bd965ef",
   "metadata": {},
   "source": [
    "### Graphes supplémentaires\n",
    "\n",
    "Ce bloc crée des graphiques détaillés pour chaque métrique demandée (comptages bruts et normalisés par 100 pages), des tendances par livre, ainsi qu'une heatmap résumant les métriques par livre. Les fichiers PNG sont sauvegardés dans `../visualizations/`."
   ]
  },
  {
   "cell_type": "code",
   "execution_count": 7,
   "id": "65057f29",
   "metadata": {},
   "outputs": [
    {
     "name": "stderr",
     "output_type": "stream",
     "text": [
      "/var/folders/h1/3vdpcpx10ylfrknvl3h818480000gn/T/ipykernel_96755/889495439.py:26: UserWarning: Tight layout not applied. The bottom and top margins cannot be made large enough to accommodate all Axes decorations.\n",
      "  plt.tight_layout()\n",
      "/var/folders/h1/3vdpcpx10ylfrknvl3h818480000gn/T/ipykernel_96755/889495439.py:26: UserWarning: Tight layout not applied. The bottom and top margins cannot be made large enough to accommodate all Axes decorations.\n",
      "  plt.tight_layout()\n",
      "/var/folders/h1/3vdpcpx10ylfrknvl3h818480000gn/T/ipykernel_96755/889495439.py:26: UserWarning: Tight layout not applied. The bottom and top margins cannot be made large enough to accommodate all Axes decorations.\n",
      "  plt.tight_layout()\n"
     ]
    },
    {
     "name": "stdout",
     "output_type": "stream",
     "text": [
      "Saved ../visualizations/scar_count_per_book.png\n",
      "Saved ../visualizations/hermione_mais_per_book.png\n",
      "Saved ../visualizations/dumbledore_actions_per_book.png\n"
     ]
    },
    {
     "name": "stderr",
     "output_type": "stream",
     "text": [
      "/var/folders/h1/3vdpcpx10ylfrknvl3h818480000gn/T/ipykernel_96755/889495439.py:26: UserWarning: Tight layout not applied. The bottom and top margins cannot be made large enough to accommodate all Axes decorations.\n",
      "  plt.tight_layout()\n",
      "/var/folders/h1/3vdpcpx10ylfrknvl3h818480000gn/T/ipykernel_96755/889495439.py:26: UserWarning: Tight layout not applied. The bottom and top margins cannot be made large enough to accommodate all Axes decorations.\n",
      "  plt.tight_layout()\n"
     ]
    },
    {
     "name": "stdout",
     "output_type": "stream",
     "text": [
      "Saved ../visualizations/rogue_dark_per_book.png\n",
      "Saved ../visualizations/crime_events_per_book.png\n",
      "Saved ../visualizations/metrics_per_100_pages_per_book.png\n",
      "Saved ../visualizations/trend_scar_count.png\n",
      "Saved ../visualizations/trend_hermione_mais.png\n"
     ]
    },
    {
     "name": "stderr",
     "output_type": "stream",
     "text": [
      "/var/folders/h1/3vdpcpx10ylfrknvl3h818480000gn/T/ipykernel_96755/889495439.py:63: UserWarning: Tight layout not applied. The bottom and top margins cannot be made large enough to accommodate all Axes decorations.\n",
      "  plt.tight_layout()\n"
     ]
    },
    {
     "name": "stdout",
     "output_type": "stream",
     "text": [
      "Saved ../visualizations/trend_dumbledore_actions.png\n",
      "Saved ../visualizations/trend_rogue_dark.png\n",
      "Saved ../visualizations/trend_crime_events.png\n",
      "Saved ../visualizations/trend_scar_count_per_100_pages.png\n",
      "Saved ../visualizations/trend_hermione_mais_per_100_pages.png\n",
      "Saved ../visualizations/trend_dumbledore_actions_per_100_pages.png\n",
      "Saved ../visualizations/trend_rogue_dark_per_100_pages.png\n",
      "Saved ../visualizations/trend_crime_events_per_100_pages.png\n",
      "Saved ../visualizations/heatmap_selected_metrics.png\n",
      "All additional visualizations created in ../visualizations\n"
     ]
    }
   ],
   "source": [
    "# Additional plotting: raw counts, per-100-pages, trends and heatmap\n",
    "import matplotlib\n",
    "matplotlib.use('Agg')\n",
    "import matplotlib.pyplot as plt\n",
    "import seaborn as sns\n",
    "import os\n",
    "# ensure df_adv exists (from previous cell). If not, try loading the CSV\n",
    "if 'df_adv' not in globals():\n",
    "    try:\n",
    "        df_adv = pd.read_csv('../reports/advanced_analysis.csv', index_col=0)\n",
    "        print('Loaded ../reports/advanced_analysis.csv')\n",
    "    except Exception as e:\n",
    "        raise RuntimeError('df_adv not found and failed to load CSV: ' + str(e))\n",
    "os.makedirs('../visualizations', exist_ok=True)\n",
    "# Define metric groups\n",
    "metrics = ['scar_count','hermione_mais','dumbledore_actions','rogue_dark','crime_events']\n",
    "metrics_per100 = [m + '_per_100_pages' for m in metrics]\n",
    "# 1) Raw counts per book (bar chart for each metric)\n",
    "for m in metrics:\n",
    "    if m in df_adv.columns:\n",
    "        plt.figure(figsize=(10,4))\n",
    "        df_adv[m].sort_values(ascending=False).plot(kind='bar', color='C0')\n",
    "        plt.title(f'Raw counts: {m} per book')\n",
    "        plt.ylabel('Count')\n",
    "        plt.xlabel('Book')\n",
    "        plt.tight_layout()\n",
    "        fname = f'../visualizations/{m}_per_book.png'\n",
    "        plt.savefig(fname)\n",
    "        plt.close()\n",
    "        print('Saved', fname)\n",
    "# 2) Per-100-pages normalized metrics (grouped bar)\n",
    "available = [c for c in metrics_per100 if c in df_adv.columns]\n",
    "if available:\n",
    "    plt.figure(figsize=(12,6))\n",
    "    df_adv[available].plot(kind='bar')\n",
    "    plt.title('Metrics per 100 pages (per book)')\n",
    "    plt.ylabel('Count per 100 pages')\n",
    "    plt.xlabel('Book')\n",
    "    plt.tight_layout()\n",
    "    fname = '../visualizations/metrics_per_100_pages_per_book.png'\n",
    "    plt.savefig(fname)\n",
    "    plt.close()\n",
    "    print('Saved', fname)\n",
    "# 3) Trends across books: line plots normalized by book order\n",
    "# Try to infer book order from filenames by sorting; if index is numeric, use it\n",
    "try:\n",
    "    order = list(df_adv.index)\n",
    "    # simple heuristic: sort by filename if they contain numbers 1-7\n",
    "    import re as _re\n",
    "    def book_key(name):\n",
    "        m = _re.search(r'(+)', name)\n",
    "        return int(m.group(1)) if m else name\n",
    "    order_sorted = sorted(order, key=book_key)\n",
    "    df_sorted = df_adv.loc[order_sorted]\n",
    "except Exception:\n",
    "    df_sorted = df_adv\n",
    "# plot trends for raw and per-100\n",
    "for col in [c for c in df_sorted.columns if (c in metrics) or (c in metrics_per100)]:\n",
    "    plt.figure(figsize=(9,3))\n",
    "    plt.plot(df_sorted.index, df_sorted[col], marker='o')\n",
    "    plt.title(f'Trend: {col} by book (sorted)')\n",
    "    plt.xticks(rotation=45)\n",
    "    plt.tight_layout()\n",
    "    fname = f'../visualizations/trend_{col}.png'\n",
    "    plt.savefig(fname)\n",
    "    plt.close()\n",
    "    print('Saved', fname)\n",
    "# 4) Heatmap summarizing selected raw metrics per book\n",
    "heat_df = df_adv[metrics].copy() if all([m in df_adv.columns for m in metrics]) else df_adv[[c for c in metrics if c in df_adv.columns]]\n",
    "if not heat_df.empty:\n",
    "    plt.figure(figsize=(10,6))\n",
    "    sns.heatmap(heat_df, annot=True, fmt='g', cmap='coolwarm')\n",
    "    plt.title('Heatmap: selected raw metrics per book')\n",
    "    plt.ylabel('Book')\n",
    "    plt.xlabel('Metric')\n",
    "    plt.tight_layout()\n",
    "    fname = '../visualizations/heatmap_selected_metrics.png'\n",
    "    plt.savefig(fname)\n",
    "    plt.close()\n",
    "    print('Saved', fname)\n",
    "print('All additional visualizations created in ../visualizations')"
   ]
  }
 ],
 "metadata": {
  "kernelspec": {
   "display_name": ".venv",
   "language": "python",
   "name": "python3"
  },
  "language_info": {
   "codemirror_mode": {
    "name": "ipython",
    "version": 3
   },
   "file_extension": ".py",
   "mimetype": "text/x-python",
   "name": "python",
   "nbconvert_exporter": "python",
   "pygments_lexer": "ipython3",
   "version": "3.13.7"
  }
 },
 "nbformat": 4,
 "nbformat_minor": 5
}
