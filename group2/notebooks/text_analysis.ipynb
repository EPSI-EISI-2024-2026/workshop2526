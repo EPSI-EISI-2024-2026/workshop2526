{
 "cells": [
  {
   "cell_type": "markdown",
   "id": "7cce9339",
   "metadata": {},
   "source": [
    "# Text Analysis of Harry Potter Saga\n",
    "\n",
    "This notebook implements the \"Trial of J.K. Rowling\" challenge: analyzing character appearances and frequencies in the Harry Potter books."
   ]
  },
  {
   "cell_type": "markdown",
   "id": "07152eef",
   "metadata": {},
   "source": [
    "## Import Libraries"
   ]
  },
  {
   "cell_type": "code",
   "execution_count": 24,
   "id": "0698a4d2",
   "metadata": {},
   "outputs": [
    {
     "name": "stderr",
     "output_type": "stream",
     "text": [
      "[nltk_data] Downloading package punkt to /Users/nimzero/nltk_data...\n",
      "[nltk_data]   Package punkt is already up-to-date!\n"
     ]
    },
    {
     "data": {
      "text/plain": [
       "True"
      ]
     },
     "execution_count": 24,
     "metadata": {},
     "output_type": "execute_result"
    }
   ],
   "source": [
    "import os\n",
    "import re\n",
    "import pandas as pd\n",
    "import matplotlib.pyplot as plt\n",
    "import seaborn as sns\n",
    "from collections import Counter\n",
    "import nltk\n",
    "nltk.download('punkt')"
   ]
  },
  {
   "cell_type": "markdown",
   "id": "35271d1b",
   "metadata": {},
   "source": [
    "## Define Characters"
   ]
  },
  {
   "cell_type": "code",
   "execution_count": 25,
   "id": "3e7b21f7",
   "metadata": {},
   "outputs": [],
   "source": [
    "characters = [\n",
    "    'Harry Potter',\n",
    "    'Hermione Granger',\n",
    "    'Ron Weasley',\n",
    "    'Albus Dumbledore',\n",
    "    'Severus Rogue',\n",
    "    'Voldemort',\n",
    "    'Drago Malefoy',\n",
    "    'Neville Londubat',\n",
    "    'Luna Lovegood',\n",
    "    'Ginny Weasley'\n",
    "]\n",
    "\n",
    "# Build regex patterns for each character to capture common French variants\n",
    "import re, unicodedata\n",
    "character_patterns = {\n",
    "    'Harry Potter': re.compile(r\"\\b(harry|harry\\s+potter|potter)\\b\", re.IGNORECASE),\n",
    "    'Hermione Granger': re.compile(r\"\\b(hermione|hermione\\s+granger|granger)\\b\", re.IGNORECASE),\n",
    "    'Ron Weasley': re.compile(r\"\\b(ron|ron\\s+weasley|weasley)\\b\", re.IGNORECASE),\n",
    "    'Albus Dumbledore': re.compile(r\"\\b(dumbledore|albus|albus\\s+dumbledore)\\b\", re.IGNORECASE),\n",
    "    'Severus Rogue': re.compile(r\"\\b(rogue|severus|severus\\s+rogue|snape|severus\\s+snape)\\b\", re.IGNORECASE),\n",
    "    'Voldemort': re.compile(r\"\\b(voldemort|tom\\s+jedusor|tom\\s+elvis\\s+jedusor|celui[-\\s]?dont[-\\s]?on[-\\s]?ne[-\\s]?doit[-\\s]?pas[-\\s]?prononcer[-\\s]?le[-\\s]?nom|vous[-\\s]?savez[-\\s]?qui)\\b\", re.IGNORECASE),\n",
    "    # For Draco/Drago: avoid matching 'Draconis' and capture French forms (Drago Malefoy / Malefoy / Malfoy)\n",
    "    'Drago Malefoy': re.compile(r\"\\b(drago(?![a-z])|drago\\s+malefoy|draco(?![a-z])|draco\\s+malfoy|(?<!lucius\\s)(malefoy|malfoy|mal[eé]foy)|m\\.?\\s*malefoy|m\\.?\\s*malfoy)\\b\", re.IGNORECASE),\n",
    "    'Neville Londubat': re.compile(r\"\\b(neville|neville\\s+londubat|londubat|longbottom)\\b\", re.IGNORECASE),\n",
    "    'Luna Lovegood': re.compile(r\"\\b(luna|luna\\s+lovegood|lovegood)\\b\", re.IGNORECASE),\n",
    "    'Ginny Weasley': re.compile(r\"\\b(ginny|ginny\\s+weasley|weasley)\\b\", re.IGNORECASE),\n",
    "}"
   ]
  },
  {
   "cell_type": "markdown",
   "id": "94f6119a",
   "metadata": {},
   "source": [
    "## Load Texts"
   ]
  },
  {
   "cell_type": "code",
   "execution_count": 26,
   "id": "839677ca",
   "metadata": {},
   "outputs": [],
   "source": [
    "text_dir = '../datasets/texts'\n",
    "books = {}\n",
    "os.makedirs(text_dir, exist_ok=True)\n",
    "\n",
    "# Prefer PDF files if present; fall back to .txt files\n",
    "pdf_files = [f for f in os.listdir(text_dir) if f.lower().endswith('.pdf')]\n",
    "txt_files = [f for f in os.listdir(text_dir) if f.lower().endswith('.txt')]\n",
    "\n",
    "if pdf_files:\n",
    "    from PyPDF2 import PdfReader\n",
    "    for file in pdf_files:\n",
    "        path = os.path.join(text_dir, file)\n",
    "        try:\n",
    "            reader = PdfReader(path)\n",
    "            text = ''\n",
    "            for page in reader.pages:\n",
    "                page_text = page.extract_text()\n",
    "                if page_text:\n",
    "                    text += page_text + '\\n'\n",
    "            books[file] = text\n",
    "        except Exception as e:\n",
    "            print(f'Failed to read PDF {file}: {e}')\n",
    "elif txt_files:\n",
    "    for file in txt_files:\n",
    "        with open(os.path.join(text_dir, file), 'r', encoding='utf-8') as f:\n",
    "            books[file] = f.read()\n",
    "else:\n",
    "    raise FileNotFoundError('No PDF or TXT files found in datasets/texts/. Please add the book PDFs or .txt files.')"
   ]
  },
  {
   "cell_type": "code",
   "execution_count": 27,
   "id": "9a27d55b",
   "metadata": {},
   "outputs": [
    {
     "name": "stdout",
     "output_type": "stream",
     "text": [
      "Total mentions computed for characters:\n",
      " Harry Potter        18218\n",
      "Hermione Granger     5381\n",
      "Ron Weasley          7632\n",
      "Albus Dumbledore     3369\n",
      "Severus Rogue        1892\n",
      "Voldemort            1326\n",
      "Drago Malefoy        1459\n",
      "Neville Londubat      790\n",
      "Luna Lovegood         421\n",
      "Ginny Weasley        2382\n",
      "dtype: int64\n"
     ]
    }
   ],
   "source": [
    "import unicodedata\n",
    "\n",
    "def normalize_text(s):\n",
    "    if not s:\n",
    "        return ''\n",
    "    # Normalize unicode, remove accents, and collapse whitespace\n",
    "    s = unicodedata.normalize('NFKD', s)\n",
    "    s = ''.join(c for c in s if not unicodedata.combining(c))\n",
    "    s = re.sub(r'\\s+', ' ', s)\n",
    "    return s\n",
    "\n",
    "# Per book analysis using regex patterns\n",
    "book_data = []\n",
    "for book_name, text in books.items():\n",
    "    book_mentions = {}\n",
    "    norm_text = normalize_text(text).lower() if text else ''\n",
    "    for char, pattern in character_patterns.items():\n",
    "        try:\n",
    "            count = len(pattern.findall(norm_text))\n",
    "        except Exception:\n",
    "            count = 0\n",
    "        book_mentions[char] = count\n",
    "    book_mentions['Book'] = book_name\n",
    "    book_data.append(book_mentions)\n",
    "\n",
    "df_books = pd.DataFrame(book_data)\n",
    "if 'Book' in df_books.columns:\n",
    "    df_books = df_books.set_index('Book')\n",
    "else:\n",
    "    df_books.index = list(books.keys())\n",
    "\n",
    "# Total mentions\n",
    "total_mentions = df_books.sum()\n",
    "print('Total mentions computed for characters:\\n', total_mentions)\n",
    "\n",
    "# Visualizations\n",
    "import matplotlib\n",
    "matplotlib.use('Agg')\n",
    "plt.figure(figsize=(12, 6))\n",
    "total_mentions.sort_values(ascending=False).plot(kind='bar')\n",
    "plt.title('Total Character Mentions Across All Books')\n",
    "plt.xlabel('Character')\n",
    "plt.ylabel('Mentions')\n",
    "plt.xticks(rotation=45)\n",
    "plt.tight_layout()\n",
    "plt.savefig('../visualizations/total_mentions.png')\n",
    "plt.close()\n",
    "\n",
    "# Heatmap per book (if multiple books)\n",
    "if df_books.shape[0] > 0:\n",
    "    plt.figure(figsize=(12, 8))\n",
    "    sns.heatmap(df_books.T, annot=True, fmt='d', cmap='YlOrRd')\n",
    "    plt.title('Character Mentions Per Book')\n",
    "    plt.xlabel('Book')\n",
    "    plt.ylabel('Character')\n",
    "    plt.tight_layout()\n",
    "    plt.savefig('../visualizations/mentions_per_book.png')\n",
    "    plt.close()\n",
    "\n",
    "# If books are ordered, plot trends\n",
    "book_order = list(books.keys())\n",
    "if df_books.shape[0] > 0:\n",
    "    df_ordered = df_books.loc[book_order] if set(book_order) == set(df_books.index) else df_books\n",
    "    plt.figure(figsize=(12, 6))\n",
    "    for char in characters:\n",
    "        if char in df_ordered.columns:\n",
    "            plt.plot(df_ordered.index, df_ordered[char], label=char, marker='o')\n",
    "    plt.title('Character Mention Trends Across Books')\n",
    "    plt.xlabel('Book')\n",
    "    plt.ylabel('Mentions')\n",
    "    plt.legend(bbox_to_anchor=(1.05, 1), loc='upper left')\n",
    "    plt.tight_layout()\n",
    "    plt.savefig('../visualizations/mention_trends.png')\n",
    "    plt.close()"
   ]
  },
  {
   "cell_type": "code",
   "execution_count": 28,
   "id": "acb8ecba",
   "metadata": {},
   "outputs": [
    {
     "name": "stdout",
     "output_type": "stream",
     "text": [
      "--- Draco ---\n",
      "harry-potter-3-le-prisonnier-dazkaban.pdf 0 matches\n",
      "\n",
      "harry-potter-1-lecole-des-sorciers.pdf 1 matches\n",
      "... asse\t?\tdemanda-t-elle. —Caput\tDraconis,\tdit\tPercy\tet\tle\ttabl\n",
      "\n",
      "harry-potter-2-la-chambre-des-secrets.pdf 0 matches\n",
      "\n",
      "harry-potter-4-la-coupe-de-feu.pdf 0 matches\n",
      "\n",
      "harry-potter-7-les-reliques-de-la-mort.pdf 0 matches\n",
      "\n",
      "harry-potter-6-le-prince-de-sang-mecc82lecc81.pdf 0 matches\n",
      "\n",
      "harry-potter-5-lordre-du-phoenix.pdf 0 matches\n",
      "\n",
      "--- Malfoy ---\n",
      "harry-potter-3-le-prisonnier-dazkaban.pdf 0 matches\n",
      "\n",
      "harry-potter-1-lecole-des-sorciers.pdf 0 matches\n",
      "\n",
      "harry-potter-2-la-chambre-des-secrets.pdf 0 matches\n",
      "\n",
      "harry-potter-4-la-coupe-de-feu.pdf 0 matches\n",
      "\n",
      "harry-potter-7-les-reliques-de-la-mort.pdf 0 matches\n",
      "\n",
      "harry-potter-6-le-prince-de-sang-mecc82lecc81.pdf 0 matches\n",
      "\n",
      "harry-potter-5-lordre-du-phoenix.pdf 0 matches\n",
      "\n"
     ]
    }
   ],
   "source": [
    "# Diagnostic: show contexts where Draco or Malfoy appear\n",
    "for name in ['Draco', 'Malfoy']:\n",
    "    print('---', name, '---')\n",
    "    for book, text in books.items():\n",
    "        matches = [m.start() for m in re.finditer(name, text, re.IGNORECASE)]\n",
    "        print(book, len(matches), 'matches')\n",
    "        for i, pos in enumerate(matches[:5]):\n",
    "            start = max(0, pos-30)\n",
    "            end = min(len(text), pos+30)\n",
    "            print('...', text[start:end].replace('\\n', ' '))\n",
    "        print()"
   ]
  }
 ],
 "metadata": {
  "kernelspec": {
   "display_name": ".venv",
   "language": "python",
   "name": "python3"
  },
  "language_info": {
   "codemirror_mode": {
    "name": "ipython",
    "version": 3
   },
   "file_extension": ".py",
   "mimetype": "text/x-python",
   "name": "python",
   "nbconvert_exporter": "python",
   "pygments_lexer": "ipython3",
   "version": "3.13.7"
  }
 },
 "nbformat": 4,
 "nbformat_minor": 5
}
