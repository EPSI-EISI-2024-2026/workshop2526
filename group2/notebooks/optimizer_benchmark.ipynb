{
 "cells": [
  {
   "cell_type": "markdown",
   "id": "4e6d5b56",
   "metadata": {},
   "source": [
    "# Optimizer Benchmark: The Nimbus 3000\n",
    "\n",
    "This notebook benchmarks various optimizers on the character recognition CNN model."
   ]
  },
  {
   "cell_type": "markdown",
   "id": "92bf7578",
   "metadata": {},
   "source": [
    "## Import Libraries"
   ]
  },
  {
   "cell_type": "code",
   "execution_count": null,
   "id": "9ece2c6f",
   "metadata": {},
   "outputs": [],
   "source": [
    "import os\n",
    "import numpy as np\n",
    "import tensorflow as tf\n",
    "from tensorflow.keras.models import load_model, clone_model\n",
    "from tensorflow.keras.preprocessing.image import ImageDataGenerator\n",
    "import matplotlib.pyplot as plt"
   ]
  },
  {
   "cell_type": "markdown",
   "id": "fe1f2338",
   "metadata": {},
   "source": [
    "## Load Data"
   ]
  },
  {
   "cell_type": "code",
   "execution_count": null,
   "id": "43db0f3f",
   "metadata": {},
   "outputs": [],
   "source": [
    "data_dir = '../datasets/images'\n",
    "\n",
    "datagen = ImageDataGenerator(rescale=1./255, validation_split=0.2)\n",
    "\n",
    "train_generator = datagen.flow_from_directory(\n",
    "    data_dir,\n",
    "    target_size=(128, 128),\n",
    "    batch_size=32,\n",
    "    class_mode='categorical',\n",
    "    subset='training'\n",
    ")\n",
    "\n",
    "validation_generator = datagen.flow_from_directory(\n",
    "    data_dir,\n",
    "    target_size=(128, 128),\n",
    "    batch_size=32,\n",
    "    class_mode='categorical',\n",
    "    subset='validation'\n",
    ")"
   ]
  },
  {
   "cell_type": "markdown",
   "id": "40fd8e00",
   "metadata": {},
   "source": [
    "## Define Optimizers"
   ]
  },
  {
   "cell_type": "code",
   "execution_count": null,
   "id": "d68fa36f",
   "metadata": {},
   "outputs": [],
   "source": [
    "optimizers = {\n",
    "    'SGD': tf.keras.optimizers.SGD(learning_rate=0.01),\n",
    "    'Adagrad': tf.keras.optimizers.Adagrad(learning_rate=0.01),\n",
    "    'RMSprop': tf.keras.optimizers.RMSprop(learning_rate=0.001),\n",
    "    'Adam': tf.keras.optimizers.Adam(learning_rate=0.001),\n",
    "    'AdamW': tf.keras.optimizers.AdamW(learning_rate=0.001, weight_decay=0.004)\n",
    "}"
   ]
  },
  {
   "cell_type": "markdown",
   "id": "4b601030",
   "metadata": {},
   "source": [
    "## Benchmark Function"
   ]
  },
  {
   "cell_type": "code",
   "execution_count": null,
   "id": "bf48a0c8",
   "metadata": {},
   "outputs": [],
   "source": [
    "def build_model():\n",
    "    model = tf.keras.Sequential([\n",
    "        tf.keras.layers.Conv2D(32, (3, 3), activation='relu', input_shape=(128, 128, 3)),\n",
    "        tf.keras.layers.MaxPooling2D((2, 2)),\n",
    "        tf.keras.layers.Conv2D(64, (3, 3), activation='relu'),\n",
    "        tf.keras.layers.MaxPooling2D((2, 2)),\n",
    "        tf.keras.layers.Conv2D(128, (3, 3), activation='relu'),\n",
    "        tf.keras.layers.MaxPooling2D((2, 2)),\n",
    "        tf.keras.layers.Flatten(),\n",
    "        tf.keras.layers.Dense(512, activation='relu'),\n",
    "        tf.keras.layers.Dropout(0.5),\n",
    "        tf.keras.layers.Dense(10, activation='softmax')\n",
    "    ])\n",
    "    return model\n",
    "\n",
    "results = {}\n",
    "\n",
    "for name, optimizer in optimizers.items():\n",
    "    print(f\"Training with {name}...\")\n",
    "    model = build_model()\n",
    "    model.compile(optimizer=optimizer, loss='categorical_crossentropy', metrics=['accuracy'])\n",
    "    \n",
    "    history = model.fit(\n",
    "        train_generator,\n",
    "        epochs=10,\n",
    "        validation_data=validation_generator,\n",
    "        verbose=0\n",
    "    )\n",
    "    \n",
    "    results[name] = {\n",
    "        'history': history.history,\n",
    "        'final_accuracy': history.history['val_accuracy'][-1],\n",
    "        'final_loss': history.history['val_loss'][-1]\n",
    "    }"
   ]
  },
  {
   "cell_type": "markdown",
   "id": "b9b6290a",
   "metadata": {},
   "source": [
    "## Results Analysis"
   ]
  },
  {
   "cell_type": "code",
   "execution_count": null,
   "id": "3c9b1ca3",
   "metadata": {},
   "outputs": [],
   "source": [
    "# Plot comparison\n",
    "plt.figure(figsize=(12, 5))\n",
    "\n",
    "plt.subplot(1, 2, 1)\n",
    "for name, result in results.items():\n",
    "    plt.plot(result['history']['val_accuracy'], label=name)\n",
    "plt.title('Validation Accuracy')\n",
    "plt.xlabel('Epoch')\n",
    "plt.ylabel('Accuracy')\n",
    "plt.legend()\n",
    "\n",
    "plt.subplot(1, 2, 2)\n",
    "for name, result in results.items():\n",
    "    plt.plot(result['history']['val_loss'], label=name)\n",
    "plt.title('Validation Loss')\n",
    "plt.xlabel('Epoch')\n",
    "plt.ylabel('Loss')\n",
    "plt.legend()\n",
    "\n",
    "plt.tight_layout()\n",
    "plt.show()\n",
    "\n",
    "# Print final results\n",
    "print(\"Final Validation Results:\")\n",
    "for name, result in results.items():\n",
    "    print(f\"{name}: Accuracy={result['final_accuracy']:.4f}, Loss={result['final_loss']:.4f}\")"
   ]
  },
  {
   "cell_type": "markdown",
   "id": "a6f952e4",
   "metadata": {},
   "source": [
    "## Commentary\n",
    "\n",
    "Based on the results:\n",
    "\n",
    "- Adam and AdamW typically perform well due to adaptive learning rates.\n",
    "- SGD may require more epochs or learning rate scheduling.\n",
    "- Adagrad adapts learning rates but may slow down over time.\n",
    "- RMSprop is good for non-stationary objectives.\n",
    "\n",
    "The best optimizer depends on the dataset and model complexity. In this case, [best optimizer] showed the highest accuracy."
   ]
  }
 ],
 "metadata": {
  "language_info": {
   "name": "python"
  }
 },
 "nbformat": 4,
 "nbformat_minor": 5
}
