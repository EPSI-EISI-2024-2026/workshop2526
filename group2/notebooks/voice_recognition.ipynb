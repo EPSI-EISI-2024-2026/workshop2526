{
 "cells": [
  {
   "cell_type": "markdown",
   "id": "04d757f9",
   "metadata": {},
   "source": [
    "# Voice Recognition for Harry Potter Spells\n",
    "\n",
    "This notebook implements the Professor Dumbledore challenge: creating an AI for voice recognition of at least 8 magical spells from Harry Potter."
   ]
  },
  {
   "cell_type": "markdown",
   "id": "a4176601",
   "metadata": {},
   "source": [
    "## Import Libraries"
   ]
  },
  {
   "cell_type": "code",
   "execution_count": 1,
   "id": "2e2f134b",
   "metadata": {},
   "outputs": [],
   "source": [
    "import os\n",
    "import numpy as np\n",
    "import speech_recognition as sr\n",
    "from gtts import gTTS\n",
    "from sklearn.model_selection import train_test_split\n",
    "from sklearn.preprocessing import LabelEncoder\n",
    "from sklearn.feature_extraction.text import TfidfVectorizer\n",
    "from tensorflow.keras.models import Sequential\n",
    "from tensorflow.keras.layers import Dense, Dropout\n",
    "from tensorflow.keras.utils import to_categorical\n",
    "import matplotlib.pyplot as plt\n",
    "import librosa\n",
    "import glob"
   ]
  },
  {
   "cell_type": "markdown",
   "id": "d43f4c82",
   "metadata": {},
   "source": [
    "## Define Spells"
   ]
  },
  {
   "cell_type": "code",
   "execution_count": 2,
   "id": "d0151712",
   "metadata": {},
   "outputs": [],
   "source": [
    "spells = [\n",
    "    'Avada Kedavra',\n",
    "    'Expecto Patronum', \n",
    "    'Lumos',\n",
    "    'Nox',\n",
    "    'Wingardium Leviosa',\n",
    "    'Accio',\n",
    "    'Expelliarmus',\n",
    "    'Stupefy'\n",
    "]"
   ]
  },
  {
   "cell_type": "markdown",
   "id": "e3ca7719",
   "metadata": {},
   "source": [
    "## Generate Audio Dataset"
   ]
  },
  {
   "cell_type": "code",
   "execution_count": 3,
   "id": "c2d0ced6",
   "metadata": {},
   "outputs": [
    {
     "name": "stdout",
     "output_type": "stream",
     "text": [
      "Generated ../datasets/audio/Avada_Kedavra_en_com.mp3\n",
      "Generated ../datasets/audio/Avada_Kedavra_en_co.uk.mp3\n",
      "Generated ../datasets/audio/Avada_Kedavra_en_co.uk.mp3\n",
      "Generated ../datasets/audio/Avada_Kedavra_en_com.au.mp3\n",
      "Generated ../datasets/audio/Avada_Kedavra_en_com.au.mp3\n",
      "Generated ../datasets/audio/Avada_Kedavra_fr_fr.mp3\n",
      "Generated ../datasets/audio/Avada_Kedavra_fr_com.mp3\n",
      "Generated ../datasets/audio/Avada_Kedavra_fr_fr.mp3\n",
      "Generated ../datasets/audio/Avada_Kedavra_fr_com.mp3\n",
      "Generated ../datasets/audio/Expecto_Patronum_en_com.mp3\n",
      "Generated ../datasets/audio/Expecto_Patronum_en_com.mp3\n",
      "Generated ../datasets/audio/Expecto_Patronum_en_co.uk.mp3\n",
      "Generated ../datasets/audio/Expecto_Patronum_en_com.au.mp3\n",
      "Generated ../datasets/audio/Expecto_Patronum_en_co.uk.mp3\n",
      "Generated ../datasets/audio/Expecto_Patronum_en_com.au.mp3\n",
      "Generated ../datasets/audio/Expecto_Patronum_fr_fr.mp3\n",
      "Generated ../datasets/audio/Expecto_Patronum_fr_com.mp3\n",
      "Generated ../datasets/audio/Expecto_Patronum_fr_fr.mp3\n",
      "Generated ../datasets/audio/Expecto_Patronum_fr_com.mp3\n",
      "Generated ../datasets/audio/Lumos_en_com.mp3\n",
      "Generated ../datasets/audio/Lumos_en_co.uk.mp3\n",
      "Generated ../datasets/audio/Lumos_en_com.mp3\n",
      "Generated ../datasets/audio/Lumos_en_co.uk.mp3\n",
      "Generated ../datasets/audio/Lumos_en_com.au.mp3\n",
      "Generated ../datasets/audio/Lumos_fr_fr.mp3\n",
      "Generated ../datasets/audio/Lumos_en_com.au.mp3\n",
      "Generated ../datasets/audio/Lumos_fr_fr.mp3\n",
      "Generated ../datasets/audio/Lumos_fr_com.mp3\n",
      "Generated ../datasets/audio/Lumos_fr_com.mp3\n",
      "Generated ../datasets/audio/Nox_en_com.mp3\n",
      "Generated ../datasets/audio/Nox_en_co.uk.mp3\n",
      "Generated ../datasets/audio/Nox_en_com.mp3\n",
      "Generated ../datasets/audio/Nox_en_co.uk.mp3\n",
      "Generated ../datasets/audio/Nox_en_com.au.mp3\n",
      "Generated ../datasets/audio/Nox_fr_fr.mp3\n",
      "Generated ../datasets/audio/Nox_en_com.au.mp3\n",
      "Generated ../datasets/audio/Nox_fr_fr.mp3\n",
      "Generated ../datasets/audio/Nox_fr_com.mp3\n",
      "Generated ../datasets/audio/Nox_fr_com.mp3\n",
      "Generated ../datasets/audio/Wingardium_Leviosa_en_com.mp3\n",
      "Generated ../datasets/audio/Wingardium_Leviosa_en_com.mp3\n",
      "Generated ../datasets/audio/Wingardium_Leviosa_en_co.uk.mp3\n",
      "Generated ../datasets/audio/Wingardium_Leviosa_en_com.au.mp3\n",
      "Generated ../datasets/audio/Wingardium_Leviosa_en_co.uk.mp3\n",
      "Generated ../datasets/audio/Wingardium_Leviosa_en_com.au.mp3\n",
      "Generated ../datasets/audio/Wingardium_Leviosa_fr_fr.mp3\n",
      "Generated ../datasets/audio/Wingardium_Leviosa_fr_com.mp3\n",
      "Generated ../datasets/audio/Wingardium_Leviosa_fr_fr.mp3\n",
      "Generated ../datasets/audio/Wingardium_Leviosa_fr_com.mp3\n",
      "Generated ../datasets/audio/Accio_en_com.mp3\n",
      "Generated ../datasets/audio/Accio_en_com.mp3\n",
      "Generated ../datasets/audio/Accio_en_co.uk.mp3\n",
      "Generated ../datasets/audio/Accio_en_co.uk.mp3\n",
      "Generated ../datasets/audio/Accio_en_com.au.mp3\n",
      "Generated ../datasets/audio/Accio_fr_fr.mp3\n",
      "Generated ../datasets/audio/Accio_en_com.au.mp3\n",
      "Generated ../datasets/audio/Accio_fr_fr.mp3\n",
      "Generated ../datasets/audio/Accio_fr_com.mp3\n",
      "Generated ../datasets/audio/Accio_fr_com.mp3\n",
      "Generated ../datasets/audio/Expelliarmus_en_com.mp3\n",
      "Generated ../datasets/audio/Expelliarmus_en_com.mp3\n",
      "Generated ../datasets/audio/Expelliarmus_en_co.uk.mp3\n",
      "Generated ../datasets/audio/Expelliarmus_en_com.au.mp3\n",
      "Generated ../datasets/audio/Expelliarmus_en_co.uk.mp3\n",
      "Generated ../datasets/audio/Expelliarmus_en_com.au.mp3\n",
      "Generated ../datasets/audio/Expelliarmus_fr_fr.mp3\n",
      "Generated ../datasets/audio/Expelliarmus_fr_com.mp3\n",
      "Generated ../datasets/audio/Expelliarmus_fr_fr.mp3\n",
      "Generated ../datasets/audio/Expelliarmus_fr_com.mp3\n",
      "Generated ../datasets/audio/Stupefy_en_com.mp3\n",
      "Generated ../datasets/audio/Stupefy_en_com.mp3\n",
      "Generated ../datasets/audio/Stupefy_en_co.uk.mp3\n",
      "Generated ../datasets/audio/Stupefy_en_co.uk.mp3\n",
      "Generated ../datasets/audio/Stupefy_en_com.au.mp3\n",
      "Generated ../datasets/audio/Stupefy_fr_fr.mp3\n",
      "Generated ../datasets/audio/Stupefy_en_com.au.mp3\n",
      "Generated ../datasets/audio/Stupefy_fr_fr.mp3\n",
      "Generated ../datasets/audio/Stupefy_fr_com.mp3\n",
      "Generated ../datasets/audio/Stupefy_fr_com.mp3\n"
     ]
    }
   ],
   "source": [
    "# Create audio directory\n",
    "audio_dir = '../datasets/audio'\n",
    "os.makedirs(audio_dir, exist_ok=True)\n",
    "\n",
    "# Define languages and TLDs for different voices\n",
    "languages = ['en', 'fr']\n",
    "tlds = {\n",
    "    'en': ['com', 'co.uk', 'com.au'],\n",
    "    'fr': ['fr', 'com']\n",
    "}\n",
    "\n",
    "# Generate audio for each spell with different language/TLD combinations\n",
    "for spell in spells:\n",
    "    for lang in languages:\n",
    "        for tld in tlds.get(lang, []):\n",
    "            try:\n",
    "                tts = gTTS(text=spell, lang=lang, tld=tld)\n",
    "                filename = f\"{audio_dir}/{spell.replace(' ', '_')}_{lang}_{tld}.mp3\"\n",
    "                tts.save(filename)\n",
    "                print(f\"Generated {filename}\")\n",
    "            except Exception as e:\n",
    "                print(f\"Failed to generate {spell} for {lang}/{tld}: {e}\")"
   ]
  },
  {
   "cell_type": "markdown",
   "id": "da638ae0",
   "metadata": {},
   "source": [
    "## Feature Extraction"
   ]
  },
  {
   "cell_type": "code",
   "execution_count": 4,
   "id": "cc848831",
   "metadata": {},
   "outputs": [
    {
     "name": "stdout",
     "output_type": "stream",
     "text": [
      "Extracted features for 38 audio samples\n"
     ]
    }
   ],
   "source": [
    "def extract_features(file_path):\n",
    "    # Load audio with librosa (supports MP3 and WAV)\n",
    "    audio, sample_rate = librosa.load(file_path, sr=16000)\n",
    "    # Convert to int16 for speech_recognition\n",
    "    audio_int = (audio * 32767).astype(np.int16)\n",
    "    # Create AudioData\n",
    "    audio_data = sr.AudioData(audio_int.tobytes(), 16000, 2)\n",
    "    # Recognize\n",
    "    try:\n",
    "        text = sr.Recognizer().recognize_google(audio_data)\n",
    "        return text.lower().strip()\n",
    "    except (sr.UnknownValueError, sr.RequestError):\n",
    "        return \"\"\n",
    "\n",
    "# Extract features for all audio files\n",
    "features = []\n",
    "labels = []\n",
    "\n",
    "for file_path in glob.glob(f\"{audio_dir}/*.mp3\") + glob.glob(f\"{audio_dir}/*.wav\"):\n",
    "    filename = os.path.basename(file_path)\n",
    "    # Extract spell from filename (e.g., Avada_Kedavra_en_com.mp3 -> Avada Kedavra)\n",
    "    parts = filename.replace('.mp3', '').replace('.wav','').split('_')\n",
    "    # If file uses manual naming with suffixes, try to strip lang/tld if present\n",
    "    if len(parts) > 2 and parts[-1] in ['com','fr','co.uk','com.au']:\n",
    "        spell = ' '.join(parts[:-2])\n",
    "    elif len(parts) > 1 and parts[-1].startswith('manual'):\n",
    "        spell = ' '.join(parts[:-1])\n",
    "    else:\n",
    "        spell = ' '.join(parts[:-2]) if len(parts) > 2 else ' '.join(parts[:-1])\n",
    "\n",
    "    text = extract_features(file_path)\n",
    "    if text:  # Only add if recognition succeeded\n",
    "        features.append(text)\n",
    "        labels.append(spell)\n",
    "\n",
    "print(f\"Extracted features for {len(features)} audio samples\")\n",
    "\n",
    "# Vectorize the text features\n",
    "vectorizer = TfidfVectorizer(max_features=100)\n",
    "X = vectorizer.fit_transform(features).toarray()\n",
    "y = np.array(labels)"
   ]
  },
  {
   "cell_type": "markdown",
   "id": "512e6b4d",
   "metadata": {},
   "source": [
    "## Prepare Dataset"
   ]
  },
  {
   "cell_type": "code",
   "execution_count": 5,
   "id": "9fe2d7d3",
   "metadata": {},
   "outputs": [],
   "source": [
    "# Encode labels\n",
    "le = LabelEncoder()\n",
    "y_encoded = le.fit_transform(y)\n",
    "y_categorical = to_categorical(y_encoded)\n",
    "\n",
    "# Split data\n",
    "X_train, X_test, y_train, y_test = train_test_split(X, y_categorical, test_size=0.2, random_state=42)"
   ]
  },
  {
   "cell_type": "markdown",
   "id": "509ad853",
   "metadata": {},
   "source": [
    "## Build Model"
   ]
  },
  {
   "cell_type": "code",
   "execution_count": 6,
   "id": "ca805b7e",
   "metadata": {},
   "outputs": [
    {
     "name": "stderr",
     "output_type": "stream",
     "text": [
      "/Users/nimzero/Dev/Cours/Workshop/group2/.venv/lib/python3.13/site-packages/keras/src/layers/core/dense.py:92: UserWarning: Do not pass an `input_shape`/`input_dim` argument to a layer. When using Sequential models, prefer using an `Input(shape)` object as the first layer in the model instead.\n",
      "  super().__init__(activity_regularizer=activity_regularizer, **kwargs)\n"
     ]
    },
    {
     "data": {
      "text/html": [
       "<pre style=\"white-space:pre;overflow-x:auto;line-height:normal;font-family:Menlo,'DejaVu Sans Mono',consolas,'Courier New',monospace\"><span style=\"font-weight: bold\">Model: \"sequential\"</span>\n",
       "</pre>\n"
      ],
      "text/plain": [
       "\u001b[1mModel: \"sequential\"\u001b[0m\n"
      ]
     },
     "metadata": {},
     "output_type": "display_data"
    },
    {
     "data": {
      "text/html": [
       "<pre style=\"white-space:pre;overflow-x:auto;line-height:normal;font-family:Menlo,'DejaVu Sans Mono',consolas,'Courier New',monospace\">┏━━━━━━━━━━━━━━━━━━━━━━━━━━━━━━━━━┳━━━━━━━━━━━━━━━━━━━━━━━━┳━━━━━━━━━━━━━━━┓\n",
       "┃<span style=\"font-weight: bold\"> Layer (type)                    </span>┃<span style=\"font-weight: bold\"> Output Shape           </span>┃<span style=\"font-weight: bold\">       Param # </span>┃\n",
       "┡━━━━━━━━━━━━━━━━━━━━━━━━━━━━━━━━━╇━━━━━━━━━━━━━━━━━━━━━━━━╇━━━━━━━━━━━━━━━┩\n",
       "│ dense (<span style=\"color: #0087ff; text-decoration-color: #0087ff\">Dense</span>)                   │ (<span style=\"color: #00d7ff; text-decoration-color: #00d7ff\">None</span>, <span style=\"color: #00af00; text-decoration-color: #00af00\">256</span>)            │         <span style=\"color: #00af00; text-decoration-color: #00af00\">5,632</span> │\n",
       "├─────────────────────────────────┼────────────────────────┼───────────────┤\n",
       "│ dropout (<span style=\"color: #0087ff; text-decoration-color: #0087ff\">Dropout</span>)               │ (<span style=\"color: #00d7ff; text-decoration-color: #00d7ff\">None</span>, <span style=\"color: #00af00; text-decoration-color: #00af00\">256</span>)            │             <span style=\"color: #00af00; text-decoration-color: #00af00\">0</span> │\n",
       "├─────────────────────────────────┼────────────────────────┼───────────────┤\n",
       "│ dense_1 (<span style=\"color: #0087ff; text-decoration-color: #0087ff\">Dense</span>)                 │ (<span style=\"color: #00d7ff; text-decoration-color: #00d7ff\">None</span>, <span style=\"color: #00af00; text-decoration-color: #00af00\">128</span>)            │        <span style=\"color: #00af00; text-decoration-color: #00af00\">32,896</span> │\n",
       "├─────────────────────────────────┼────────────────────────┼───────────────┤\n",
       "│ dropout_1 (<span style=\"color: #0087ff; text-decoration-color: #0087ff\">Dropout</span>)             │ (<span style=\"color: #00d7ff; text-decoration-color: #00d7ff\">None</span>, <span style=\"color: #00af00; text-decoration-color: #00af00\">128</span>)            │             <span style=\"color: #00af00; text-decoration-color: #00af00\">0</span> │\n",
       "├─────────────────────────────────┼────────────────────────┼───────────────┤\n",
       "│ dense_2 (<span style=\"color: #0087ff; text-decoration-color: #0087ff\">Dense</span>)                 │ (<span style=\"color: #00d7ff; text-decoration-color: #00d7ff\">None</span>, <span style=\"color: #00af00; text-decoration-color: #00af00\">8</span>)              │         <span style=\"color: #00af00; text-decoration-color: #00af00\">1,032</span> │\n",
       "└─────────────────────────────────┴────────────────────────┴───────────────┘\n",
       "</pre>\n"
      ],
      "text/plain": [
       "┏━━━━━━━━━━━━━━━━━━━━━━━━━━━━━━━━━┳━━━━━━━━━━━━━━━━━━━━━━━━┳━━━━━━━━━━━━━━━┓\n",
       "┃\u001b[1m \u001b[0m\u001b[1mLayer (type)                   \u001b[0m\u001b[1m \u001b[0m┃\u001b[1m \u001b[0m\u001b[1mOutput Shape          \u001b[0m\u001b[1m \u001b[0m┃\u001b[1m \u001b[0m\u001b[1m      Param #\u001b[0m\u001b[1m \u001b[0m┃\n",
       "┡━━━━━━━━━━━━━━━━━━━━━━━━━━━━━━━━━╇━━━━━━━━━━━━━━━━━━━━━━━━╇━━━━━━━━━━━━━━━┩\n",
       "│ dense (\u001b[38;5;33mDense\u001b[0m)                   │ (\u001b[38;5;45mNone\u001b[0m, \u001b[38;5;34m256\u001b[0m)            │         \u001b[38;5;34m5,632\u001b[0m │\n",
       "├─────────────────────────────────┼────────────────────────┼───────────────┤\n",
       "│ dropout (\u001b[38;5;33mDropout\u001b[0m)               │ (\u001b[38;5;45mNone\u001b[0m, \u001b[38;5;34m256\u001b[0m)            │             \u001b[38;5;34m0\u001b[0m │\n",
       "├─────────────────────────────────┼────────────────────────┼───────────────┤\n",
       "│ dense_1 (\u001b[38;5;33mDense\u001b[0m)                 │ (\u001b[38;5;45mNone\u001b[0m, \u001b[38;5;34m128\u001b[0m)            │        \u001b[38;5;34m32,896\u001b[0m │\n",
       "├─────────────────────────────────┼────────────────────────┼───────────────┤\n",
       "│ dropout_1 (\u001b[38;5;33mDropout\u001b[0m)             │ (\u001b[38;5;45mNone\u001b[0m, \u001b[38;5;34m128\u001b[0m)            │             \u001b[38;5;34m0\u001b[0m │\n",
       "├─────────────────────────────────┼────────────────────────┼───────────────┤\n",
       "│ dense_2 (\u001b[38;5;33mDense\u001b[0m)                 │ (\u001b[38;5;45mNone\u001b[0m, \u001b[38;5;34m8\u001b[0m)              │         \u001b[38;5;34m1,032\u001b[0m │\n",
       "└─────────────────────────────────┴────────────────────────┴───────────────┘\n"
      ]
     },
     "metadata": {},
     "output_type": "display_data"
    },
    {
     "data": {
      "text/html": [
       "<pre style=\"white-space:pre;overflow-x:auto;line-height:normal;font-family:Menlo,'DejaVu Sans Mono',consolas,'Courier New',monospace\"><span style=\"font-weight: bold\"> Total params: </span><span style=\"color: #00af00; text-decoration-color: #00af00\">39,560</span> (154.53 KB)\n",
       "</pre>\n"
      ],
      "text/plain": [
       "\u001b[1m Total params: \u001b[0m\u001b[38;5;34m39,560\u001b[0m (154.53 KB)\n"
      ]
     },
     "metadata": {},
     "output_type": "display_data"
    },
    {
     "data": {
      "text/html": [
       "<pre style=\"white-space:pre;overflow-x:auto;line-height:normal;font-family:Menlo,'DejaVu Sans Mono',consolas,'Courier New',monospace\"><span style=\"font-weight: bold\"> Trainable params: </span><span style=\"color: #00af00; text-decoration-color: #00af00\">39,560</span> (154.53 KB)\n",
       "</pre>\n"
      ],
      "text/plain": [
       "\u001b[1m Trainable params: \u001b[0m\u001b[38;5;34m39,560\u001b[0m (154.53 KB)\n"
      ]
     },
     "metadata": {},
     "output_type": "display_data"
    },
    {
     "data": {
      "text/html": [
       "<pre style=\"white-space:pre;overflow-x:auto;line-height:normal;font-family:Menlo,'DejaVu Sans Mono',consolas,'Courier New',monospace\"><span style=\"font-weight: bold\"> Non-trainable params: </span><span style=\"color: #00af00; text-decoration-color: #00af00\">0</span> (0.00 B)\n",
       "</pre>\n"
      ],
      "text/plain": [
       "\u001b[1m Non-trainable params: \u001b[0m\u001b[38;5;34m0\u001b[0m (0.00 B)\n"
      ]
     },
     "metadata": {},
     "output_type": "display_data"
    }
   ],
   "source": [
    "model = Sequential([\n",
    "    Dense(256, activation='relu', input_shape=(X.shape[1],)),\n",
    "    Dropout(0.3),\n",
    "    Dense(128, activation='relu'),\n",
    "    Dropout(0.3),\n",
    "    Dense(len(spells), activation='softmax')\n",
    "])\n",
    "\n",
    "model.compile(loss='categorical_crossentropy', optimizer='adam', metrics=['accuracy'])\n",
    "model.summary()"
   ]
  },
  {
   "cell_type": "markdown",
   "id": "b521deb5",
   "metadata": {},
   "source": [
    "## Train Model"
   ]
  },
  {
   "cell_type": "code",
   "execution_count": 7,
   "id": "4b140f42",
   "metadata": {},
   "outputs": [
    {
     "name": "stdout",
     "output_type": "stream",
     "text": [
      "Epoch 1/50\n",
      "\u001b[1m4/4\u001b[0m \u001b[32m━━━━━━━━━━━━━━━━━━━━\u001b[0m\u001b[37m\u001b[0m \u001b[1m1s\u001b[0m 50ms/step - accuracy: 0.1667 - loss: 2.0733 - val_accuracy: 0.1250 - val_loss: 2.0377\n",
      "Epoch 2/50\n",
      "\u001b[1m4/4\u001b[0m \u001b[32m━━━━━━━━━━━━━━━━━━━━\u001b[0m\u001b[37m\u001b[0m \u001b[1m1s\u001b[0m 50ms/step - accuracy: 0.1667 - loss: 2.0733 - val_accuracy: 0.1250 - val_loss: 2.0377\n",
      "Epoch 2/50\n",
      "\u001b[1m4/4\u001b[0m \u001b[32m━━━━━━━━━━━━━━━━━━━━\u001b[0m\u001b[37m\u001b[0m \u001b[1m0s\u001b[0m 10ms/step - accuracy: 0.2667 - loss: 2.0069 - val_accuracy: 0.3750 - val_loss: 2.0052\n",
      "Epoch 3/50\n",
      "\u001b[1m4/4\u001b[0m \u001b[32m━━━━━━━━━━━━━━━━━━━━\u001b[0m\u001b[37m\u001b[0m \u001b[1m0s\u001b[0m 10ms/step - accuracy: 0.2667 - loss: 2.0069 - val_accuracy: 0.3750 - val_loss: 2.0052\n",
      "Epoch 3/50\n",
      "\u001b[1m4/4\u001b[0m \u001b[32m━━━━━━━━━━━━━━━━━━━━\u001b[0m\u001b[37m\u001b[0m \u001b[1m0s\u001b[0m 9ms/step - accuracy: 0.4333 - loss: 1.9485 - val_accuracy: 0.3750 - val_loss: 1.9700\n",
      "Epoch 4/50\n",
      "\u001b[1m4/4\u001b[0m \u001b[32m━━━━━━━━━━━━━━━━━━━━\u001b[0m\u001b[37m\u001b[0m \u001b[1m0s\u001b[0m 9ms/step - accuracy: 0.4333 - loss: 1.9485 - val_accuracy: 0.3750 - val_loss: 1.9700\n",
      "Epoch 4/50\n",
      "\u001b[1m4/4\u001b[0m \u001b[32m━━━━━━━━━━━━━━━━━━━━\u001b[0m\u001b[37m\u001b[0m \u001b[1m0s\u001b[0m 9ms/step - accuracy: 0.5333 - loss: 1.8948 - val_accuracy: 0.3750 - val_loss: 1.9278\n",
      "Epoch 5/50\n",
      "\u001b[1m4/4\u001b[0m \u001b[32m━━━━━━━━━━━━━━━━━━━━\u001b[0m\u001b[37m\u001b[0m \u001b[1m0s\u001b[0m 9ms/step - accuracy: 0.5333 - loss: 1.8948 - val_accuracy: 0.3750 - val_loss: 1.9278\n",
      "Epoch 5/50\n",
      "\u001b[1m4/4\u001b[0m \u001b[32m━━━━━━━━━━━━━━━━━━━━\u001b[0m\u001b[37m\u001b[0m \u001b[1m0s\u001b[0m 9ms/step - accuracy: 0.6000 - loss: 1.8251 - val_accuracy: 0.6250 - val_loss: 1.8790\n",
      "Epoch 6/50\n",
      "\u001b[1m4/4\u001b[0m \u001b[32m━━━━━━━━━━━━━━━━━━━━\u001b[0m\u001b[37m\u001b[0m \u001b[1m0s\u001b[0m 9ms/step - accuracy: 0.6000 - loss: 1.8251 - val_accuracy: 0.6250 - val_loss: 1.8790\n",
      "Epoch 6/50\n",
      "\u001b[1m4/4\u001b[0m \u001b[32m━━━━━━━━━━━━━━━━━━━━\u001b[0m\u001b[37m\u001b[0m \u001b[1m0s\u001b[0m 27ms/step - accuracy: 0.7333 - loss: 1.7824 - val_accuracy: 0.6250 - val_loss: 1.8302\n",
      "Epoch 7/50\n",
      "\u001b[1m4/4\u001b[0m \u001b[32m━━━━━━━━━━━━━━━━━━━━\u001b[0m\u001b[37m\u001b[0m \u001b[1m0s\u001b[0m 27ms/step - accuracy: 0.7333 - loss: 1.7824 - val_accuracy: 0.6250 - val_loss: 1.8302\n",
      "Epoch 7/50\n",
      "\u001b[1m4/4\u001b[0m \u001b[32m━━━━━━━━━━━━━━━━━━━━\u001b[0m\u001b[37m\u001b[0m \u001b[1m0s\u001b[0m 9ms/step - accuracy: 0.8000 - loss: 1.7348 - val_accuracy: 0.6250 - val_loss: 1.7794\n",
      "Epoch 8/50\n",
      "\u001b[1m4/4\u001b[0m \u001b[32m━━━━━━━━━━━━━━━━━━━━\u001b[0m\u001b[37m\u001b[0m \u001b[1m0s\u001b[0m 9ms/step - accuracy: 0.8000 - loss: 1.7348 - val_accuracy: 0.6250 - val_loss: 1.7794\n",
      "Epoch 8/50\n",
      "\u001b[1m4/4\u001b[0m \u001b[32m━━━━━━━━━━━━━━━━━━━━\u001b[0m\u001b[37m\u001b[0m \u001b[1m0s\u001b[0m 9ms/step - accuracy: 0.8000 - loss: 1.6481 - val_accuracy: 0.6250 - val_loss: 1.7273\n",
      "Epoch 9/50\n",
      "\u001b[1m4/4\u001b[0m \u001b[32m━━━━━━━━━━━━━━━━━━━━\u001b[0m\u001b[37m\u001b[0m \u001b[1m0s\u001b[0m 9ms/step - accuracy: 0.8000 - loss: 1.6481 - val_accuracy: 0.6250 - val_loss: 1.7273\n",
      "Epoch 9/50\n",
      "\u001b[1m4/4\u001b[0m \u001b[32m━━━━━━━━━━━━━━━━━━━━\u001b[0m\u001b[37m\u001b[0m \u001b[1m0s\u001b[0m 9ms/step - accuracy: 0.8333 - loss: 1.5501 - val_accuracy: 0.6250 - val_loss: 1.6652\n",
      "Epoch 10/50\n",
      "\u001b[1m4/4\u001b[0m \u001b[32m━━━━━━━━━━━━━━━━━━━━\u001b[0m\u001b[37m\u001b[0m \u001b[1m0s\u001b[0m 9ms/step - accuracy: 0.8333 - loss: 1.5501 - val_accuracy: 0.6250 - val_loss: 1.6652\n",
      "Epoch 10/50\n",
      "\u001b[1m4/4\u001b[0m \u001b[32m━━━━━━━━━━━━━━━━━━━━\u001b[0m\u001b[37m\u001b[0m \u001b[1m0s\u001b[0m 9ms/step - accuracy: 0.9000 - loss: 1.4686 - val_accuracy: 0.7500 - val_loss: 1.5968\n",
      "Epoch 11/50\n",
      "\u001b[1m4/4\u001b[0m \u001b[32m━━━━━━━━━━━━━━━━━━━━\u001b[0m\u001b[37m\u001b[0m \u001b[1m0s\u001b[0m 9ms/step - accuracy: 0.9000 - loss: 1.4686 - val_accuracy: 0.7500 - val_loss: 1.5968\n",
      "Epoch 11/50\n",
      "\u001b[1m4/4\u001b[0m \u001b[32m━━━━━━━━━━━━━━━━━━━━\u001b[0m\u001b[37m\u001b[0m \u001b[1m0s\u001b[0m 9ms/step - accuracy: 0.8000 - loss: 1.4087 - val_accuracy: 0.7500 - val_loss: 1.5237\n",
      "Epoch 12/50\n",
      "\u001b[1m4/4\u001b[0m \u001b[32m━━━━━━━━━━━━━━━━━━━━\u001b[0m\u001b[37m\u001b[0m \u001b[1m0s\u001b[0m 9ms/step - accuracy: 0.8000 - loss: 1.4087 - val_accuracy: 0.7500 - val_loss: 1.5237\n",
      "Epoch 12/50\n",
      "\u001b[1m4/4\u001b[0m \u001b[32m━━━━━━━━━━━━━━━━━━━━\u001b[0m\u001b[37m\u001b[0m \u001b[1m0s\u001b[0m 9ms/step - accuracy: 0.9000 - loss: 1.2623 - val_accuracy: 0.7500 - val_loss: 1.4490\n",
      "Epoch 13/50\n",
      "\u001b[1m4/4\u001b[0m \u001b[32m━━━━━━━━━━━━━━━━━━━━\u001b[0m\u001b[37m\u001b[0m \u001b[1m0s\u001b[0m 9ms/step - accuracy: 0.9000 - loss: 1.2623 - val_accuracy: 0.7500 - val_loss: 1.4490\n",
      "Epoch 13/50\n",
      "\u001b[1m4/4\u001b[0m \u001b[32m━━━━━━━━━━━━━━━━━━━━\u001b[0m\u001b[37m\u001b[0m \u001b[1m0s\u001b[0m 9ms/step - accuracy: 0.8667 - loss: 1.2211 - val_accuracy: 0.7500 - val_loss: 1.3661\n",
      "Epoch 14/50\n",
      "\u001b[1m4/4\u001b[0m \u001b[32m━━━━━━━━━━━━━━━━━━━━\u001b[0m\u001b[37m\u001b[0m \u001b[1m0s\u001b[0m 9ms/step - accuracy: 0.8667 - loss: 1.2211 - val_accuracy: 0.7500 - val_loss: 1.3661\n",
      "Epoch 14/50\n",
      "\u001b[1m4/4\u001b[0m \u001b[32m━━━━━━━━━━━━━━━━━━━━\u001b[0m\u001b[37m\u001b[0m \u001b[1m0s\u001b[0m 9ms/step - accuracy: 0.9667 - loss: 1.0789 - val_accuracy: 0.7500 - val_loss: 1.2783\n",
      "Epoch 15/50\n",
      "\u001b[1m4/4\u001b[0m \u001b[32m━━━━━━━━━━━━━━━━━━━━\u001b[0m\u001b[37m\u001b[0m \u001b[1m0s\u001b[0m 9ms/step - accuracy: 0.9667 - loss: 1.0789 - val_accuracy: 0.7500 - val_loss: 1.2783\n",
      "Epoch 15/50\n",
      "\u001b[1m4/4\u001b[0m \u001b[32m━━━━━━━━━━━━━━━━━━━━\u001b[0m\u001b[37m\u001b[0m \u001b[1m0s\u001b[0m 9ms/step - accuracy: 0.9333 - loss: 1.0325 - val_accuracy: 1.0000 - val_loss: 1.1930\n",
      "Epoch 16/50\n",
      "\u001b[1m4/4\u001b[0m \u001b[32m━━━━━━━━━━━━━━━━━━━━\u001b[0m\u001b[37m\u001b[0m \u001b[1m0s\u001b[0m 9ms/step - accuracy: 0.9333 - loss: 1.0325 - val_accuracy: 1.0000 - val_loss: 1.1930\n",
      "Epoch 16/50\n",
      "\u001b[1m4/4\u001b[0m \u001b[32m━━━━━━━━━━━━━━━━━━━━\u001b[0m\u001b[37m\u001b[0m \u001b[1m0s\u001b[0m 9ms/step - accuracy: 0.9000 - loss: 0.9288 - val_accuracy: 1.0000 - val_loss: 1.1075\n",
      "Epoch 17/50\n",
      "\u001b[1m4/4\u001b[0m \u001b[32m━━━━━━━━━━━━━━━━━━━━\u001b[0m\u001b[37m\u001b[0m \u001b[1m0s\u001b[0m 9ms/step - accuracy: 0.9000 - loss: 0.9288 - val_accuracy: 1.0000 - val_loss: 1.1075\n",
      "Epoch 17/50\n",
      "\u001b[1m4/4\u001b[0m \u001b[32m━━━━━━━━━━━━━━━━━━━━\u001b[0m\u001b[37m\u001b[0m \u001b[1m0s\u001b[0m 9ms/step - accuracy: 0.9333 - loss: 0.8135 - val_accuracy: 1.0000 - val_loss: 1.0283\n",
      "Epoch 18/50\n",
      "\u001b[1m4/4\u001b[0m \u001b[32m━━━━━━━━━━━━━━━━━━━━\u001b[0m\u001b[37m\u001b[0m \u001b[1m0s\u001b[0m 9ms/step - accuracy: 0.9333 - loss: 0.8135 - val_accuracy: 1.0000 - val_loss: 1.0283\n",
      "Epoch 18/50\n",
      "\u001b[1m4/4\u001b[0m \u001b[32m━━━━━━━━━━━━━━━━━━━━\u001b[0m\u001b[37m\u001b[0m \u001b[1m0s\u001b[0m 9ms/step - accuracy: 0.9667 - loss: 0.7753 - val_accuracy: 1.0000 - val_loss: 0.9434\n",
      "Epoch 19/50\n",
      "\u001b[1m4/4\u001b[0m \u001b[32m━━━━━━━━━━━━━━━━━━━━\u001b[0m\u001b[37m\u001b[0m \u001b[1m0s\u001b[0m 9ms/step - accuracy: 0.9667 - loss: 0.7753 - val_accuracy: 1.0000 - val_loss: 0.9434\n",
      "Epoch 19/50\n",
      "\u001b[1m4/4\u001b[0m \u001b[32m━━━━━━━━━━━━━━━━━━━━\u001b[0m\u001b[37m\u001b[0m \u001b[1m0s\u001b[0m 10ms/step - accuracy: 0.9667 - loss: 0.7159 - val_accuracy: 1.0000 - val_loss: 0.8444\n",
      "Epoch 20/50\n",
      "\u001b[1m4/4\u001b[0m \u001b[32m━━━━━━━━━━━━━━━━━━━━\u001b[0m\u001b[37m\u001b[0m \u001b[1m0s\u001b[0m 10ms/step - accuracy: 0.9667 - loss: 0.7159 - val_accuracy: 1.0000 - val_loss: 0.8444\n",
      "Epoch 20/50\n",
      "\u001b[1m4/4\u001b[0m \u001b[32m━━━━━━━━━━━━━━━━━━━━\u001b[0m\u001b[37m\u001b[0m \u001b[1m0s\u001b[0m 9ms/step - accuracy: 1.0000 - loss: 0.6267 - val_accuracy: 1.0000 - val_loss: 0.7580\n",
      "Epoch 21/50\n",
      "\u001b[1m4/4\u001b[0m \u001b[32m━━━━━━━━━━━━━━━━━━━━\u001b[0m\u001b[37m\u001b[0m \u001b[1m0s\u001b[0m 9ms/step - accuracy: 1.0000 - loss: 0.6267 - val_accuracy: 1.0000 - val_loss: 0.7580\n",
      "Epoch 21/50\n",
      "\u001b[1m4/4\u001b[0m \u001b[32m━━━━━━━━━━━━━━━━━━━━\u001b[0m\u001b[37m\u001b[0m \u001b[1m0s\u001b[0m 9ms/step - accuracy: 1.0000 - loss: 0.5359 - val_accuracy: 1.0000 - val_loss: 0.6783\n",
      "Epoch 22/50\n",
      "\u001b[1m4/4\u001b[0m \u001b[32m━━━━━━━━━━━━━━━━━━━━\u001b[0m\u001b[37m\u001b[0m \u001b[1m0s\u001b[0m 9ms/step - accuracy: 1.0000 - loss: 0.5359 - val_accuracy: 1.0000 - val_loss: 0.6783\n",
      "Epoch 22/50\n",
      "\u001b[1m4/4\u001b[0m \u001b[32m━━━━━━━━━━━━━━━━━━━━\u001b[0m\u001b[37m\u001b[0m \u001b[1m0s\u001b[0m 27ms/step - accuracy: 1.0000 - loss: 0.4672 - val_accuracy: 1.0000 - val_loss: 0.6054\n",
      "Epoch 23/50\n",
      "\u001b[1m4/4\u001b[0m \u001b[32m━━━━━━━━━━━━━━━━━━━━\u001b[0m\u001b[37m\u001b[0m \u001b[1m0s\u001b[0m 27ms/step - accuracy: 1.0000 - loss: 0.4672 - val_accuracy: 1.0000 - val_loss: 0.6054\n",
      "Epoch 23/50\n",
      "\u001b[1m4/4\u001b[0m \u001b[32m━━━━━━━━━━━━━━━━━━━━\u001b[0m\u001b[37m\u001b[0m \u001b[1m0s\u001b[0m 10ms/step - accuracy: 0.9667 - loss: 0.3941 - val_accuracy: 1.0000 - val_loss: 0.5238\n",
      "Epoch 24/50\n",
      "\u001b[1m4/4\u001b[0m \u001b[32m━━━━━━━━━━━━━━━━━━━━\u001b[0m\u001b[37m\u001b[0m \u001b[1m0s\u001b[0m 10ms/step - accuracy: 0.9667 - loss: 0.3941 - val_accuracy: 1.0000 - val_loss: 0.5238\n",
      "Epoch 24/50\n",
      "\u001b[1m4/4\u001b[0m \u001b[32m━━━━━━━━━━━━━━━━━━━━\u001b[0m\u001b[37m\u001b[0m \u001b[1m0s\u001b[0m 9ms/step - accuracy: 0.9667 - loss: 0.3451 - val_accuracy: 1.0000 - val_loss: 0.4580\n",
      "Epoch 25/50\n",
      "\u001b[1m4/4\u001b[0m \u001b[32m━━━━━━━━━━━━━━━━━━━━\u001b[0m\u001b[37m\u001b[0m \u001b[1m0s\u001b[0m 9ms/step - accuracy: 0.9667 - loss: 0.3451 - val_accuracy: 1.0000 - val_loss: 0.4580\n",
      "Epoch 25/50\n",
      "\u001b[1m4/4\u001b[0m \u001b[32m━━━━━━━━━━━━━━━━━━━━\u001b[0m\u001b[37m\u001b[0m \u001b[1m0s\u001b[0m 9ms/step - accuracy: 1.0000 - loss: 0.2627 - val_accuracy: 1.0000 - val_loss: 0.3876\n",
      "Epoch 26/50\n",
      "\u001b[1m4/4\u001b[0m \u001b[32m━━━━━━━━━━━━━━━━━━━━\u001b[0m\u001b[37m\u001b[0m \u001b[1m0s\u001b[0m 9ms/step - accuracy: 1.0000 - loss: 0.2627 - val_accuracy: 1.0000 - val_loss: 0.3876\n",
      "Epoch 26/50\n",
      "\u001b[1m4/4\u001b[0m \u001b[32m━━━━━━━━━━━━━━━━━━━━\u001b[0m\u001b[37m\u001b[0m \u001b[1m0s\u001b[0m 9ms/step - accuracy: 1.0000 - loss: 0.2565 - val_accuracy: 1.0000 - val_loss: 0.3333\n",
      "Epoch 27/50\n",
      "\u001b[1m4/4\u001b[0m \u001b[32m━━━━━━━━━━━━━━━━━━━━\u001b[0m\u001b[37m\u001b[0m \u001b[1m0s\u001b[0m 9ms/step - accuracy: 1.0000 - loss: 0.2565 - val_accuracy: 1.0000 - val_loss: 0.3333\n",
      "Epoch 27/50\n",
      "\u001b[1m4/4\u001b[0m \u001b[32m━━━━━━━━━━━━━━━━━━━━\u001b[0m\u001b[37m\u001b[0m \u001b[1m0s\u001b[0m 9ms/step - accuracy: 1.0000 - loss: 0.2341 - val_accuracy: 1.0000 - val_loss: 0.2891\n",
      "Epoch 28/50\n",
      "\u001b[1m4/4\u001b[0m \u001b[32m━━━━━━━━━━━━━━━━━━━━\u001b[0m\u001b[37m\u001b[0m \u001b[1m0s\u001b[0m 9ms/step - accuracy: 1.0000 - loss: 0.2341 - val_accuracy: 1.0000 - val_loss: 0.2891\n",
      "Epoch 28/50\n",
      "\u001b[1m4/4\u001b[0m \u001b[32m━━━━━━━━━━━━━━━━━━━━\u001b[0m\u001b[37m\u001b[0m \u001b[1m0s\u001b[0m 9ms/step - accuracy: 1.0000 - loss: 0.2121 - val_accuracy: 1.0000 - val_loss: 0.2530\n",
      "Epoch 29/50\n",
      "\u001b[1m4/4\u001b[0m \u001b[32m━━━━━━━━━━━━━━━━━━━━\u001b[0m\u001b[37m\u001b[0m \u001b[1m0s\u001b[0m 9ms/step - accuracy: 1.0000 - loss: 0.2121 - val_accuracy: 1.0000 - val_loss: 0.2530\n",
      "Epoch 29/50\n",
      "\u001b[1m4/4\u001b[0m \u001b[32m━━━━━━━━━━━━━━━━━━━━\u001b[0m\u001b[37m\u001b[0m \u001b[1m0s\u001b[0m 9ms/step - accuracy: 1.0000 - loss: 0.1821 - val_accuracy: 1.0000 - val_loss: 0.2218\n",
      "Epoch 30/50\n",
      "\u001b[1m4/4\u001b[0m \u001b[32m━━━━━━━━━━━━━━━━━━━━\u001b[0m\u001b[37m\u001b[0m \u001b[1m0s\u001b[0m 9ms/step - accuracy: 1.0000 - loss: 0.1821 - val_accuracy: 1.0000 - val_loss: 0.2218\n",
      "Epoch 30/50\n",
      "\u001b[1m4/4\u001b[0m \u001b[32m━━━━━━━━━━━━━━━━━━━━\u001b[0m\u001b[37m\u001b[0m \u001b[1m0s\u001b[0m 9ms/step - accuracy: 1.0000 - loss: 0.1680 - val_accuracy: 1.0000 - val_loss: 0.1923\n",
      "Epoch 31/50\n",
      "\u001b[1m4/4\u001b[0m \u001b[32m━━━━━━━━━━━━━━━━━━━━\u001b[0m\u001b[37m\u001b[0m \u001b[1m0s\u001b[0m 9ms/step - accuracy: 1.0000 - loss: 0.1680 - val_accuracy: 1.0000 - val_loss: 0.1923\n",
      "Epoch 31/50\n",
      "\u001b[1m4/4\u001b[0m \u001b[32m━━━━━━━━━━━━━━━━━━━━\u001b[0m\u001b[37m\u001b[0m \u001b[1m0s\u001b[0m 9ms/step - accuracy: 1.0000 - loss: 0.1522 - val_accuracy: 1.0000 - val_loss: 0.1723\n",
      "Epoch 32/50\n",
      "\u001b[1m4/4\u001b[0m \u001b[32m━━━━━━━━━━━━━━━━━━━━\u001b[0m\u001b[37m\u001b[0m \u001b[1m0s\u001b[0m 9ms/step - accuracy: 1.0000 - loss: 0.1522 - val_accuracy: 1.0000 - val_loss: 0.1723\n",
      "Epoch 32/50\n",
      "\u001b[1m4/4\u001b[0m \u001b[32m━━━━━━━━━━━━━━━━━━━━\u001b[0m\u001b[37m\u001b[0m \u001b[1m0s\u001b[0m 9ms/step - accuracy: 1.0000 - loss: 0.1340 - val_accuracy: 1.0000 - val_loss: 0.1508\n",
      "Epoch 33/50\n",
      "\u001b[1m4/4\u001b[0m \u001b[32m━━━━━━━━━━━━━━━━━━━━\u001b[0m\u001b[37m\u001b[0m \u001b[1m0s\u001b[0m 9ms/step - accuracy: 1.0000 - loss: 0.1340 - val_accuracy: 1.0000 - val_loss: 0.1508\n",
      "Epoch 33/50\n",
      "\u001b[1m4/4\u001b[0m \u001b[32m━━━━━━━━━━━━━━━━━━━━\u001b[0m\u001b[37m\u001b[0m \u001b[1m0s\u001b[0m 9ms/step - accuracy: 1.0000 - loss: 0.1011 - val_accuracy: 1.0000 - val_loss: 0.1300\n",
      "Epoch 34/50\n",
      "\u001b[1m4/4\u001b[0m \u001b[32m━━━━━━━━━━━━━━━━━━━━\u001b[0m\u001b[37m\u001b[0m \u001b[1m0s\u001b[0m 9ms/step - accuracy: 1.0000 - loss: 0.1011 - val_accuracy: 1.0000 - val_loss: 0.1300\n",
      "Epoch 34/50\n",
      "\u001b[1m4/4\u001b[0m \u001b[32m━━━━━━━━━━━━━━━━━━━━\u001b[0m\u001b[37m\u001b[0m \u001b[1m0s\u001b[0m 9ms/step - accuracy: 1.0000 - loss: 0.1299 - val_accuracy: 1.0000 - val_loss: 0.1138\n",
      "Epoch 35/50\n",
      "\u001b[1m4/4\u001b[0m \u001b[32m━━━━━━━━━━━━━━━━━━━━\u001b[0m\u001b[37m\u001b[0m \u001b[1m0s\u001b[0m 9ms/step - accuracy: 1.0000 - loss: 0.1299 - val_accuracy: 1.0000 - val_loss: 0.1138\n",
      "Epoch 35/50\n",
      "\u001b[1m4/4\u001b[0m \u001b[32m━━━━━━━━━━━━━━━━━━━━\u001b[0m\u001b[37m\u001b[0m \u001b[1m0s\u001b[0m 9ms/step - accuracy: 1.0000 - loss: 0.0861 - val_accuracy: 1.0000 - val_loss: 0.1018\n",
      "Epoch 36/50\n",
      "\u001b[1m4/4\u001b[0m \u001b[32m━━━━━━━━━━━━━━━━━━━━\u001b[0m\u001b[37m\u001b[0m \u001b[1m0s\u001b[0m 9ms/step - accuracy: 1.0000 - loss: 0.0861 - val_accuracy: 1.0000 - val_loss: 0.1018\n",
      "Epoch 36/50\n",
      "\u001b[1m4/4\u001b[0m \u001b[32m━━━━━━━━━━━━━━━━━━━━\u001b[0m\u001b[37m\u001b[0m \u001b[1m0s\u001b[0m 22ms/step - accuracy: 1.0000 - loss: 0.0983 - val_accuracy: 1.0000 - val_loss: 0.0903\n",
      "Epoch 37/50\n",
      "\u001b[1m4/4\u001b[0m \u001b[32m━━━━━━━━━━━━━━━━━━━━\u001b[0m\u001b[37m\u001b[0m \u001b[1m0s\u001b[0m 22ms/step - accuracy: 1.0000 - loss: 0.0983 - val_accuracy: 1.0000 - val_loss: 0.0903\n",
      "Epoch 37/50\n",
      "\u001b[1m4/4\u001b[0m \u001b[32m━━━━━━━━━━━━━━━━━━━━\u001b[0m\u001b[37m\u001b[0m \u001b[1m0s\u001b[0m 9ms/step - accuracy: 1.0000 - loss: 0.0810 - val_accuracy: 1.0000 - val_loss: 0.0823\n",
      "Epoch 38/50\n",
      "\u001b[1m4/4\u001b[0m \u001b[32m━━━━━━━━━━━━━━━━━━━━\u001b[0m\u001b[37m\u001b[0m \u001b[1m0s\u001b[0m 9ms/step - accuracy: 1.0000 - loss: 0.0810 - val_accuracy: 1.0000 - val_loss: 0.0823\n",
      "Epoch 38/50\n",
      "\u001b[1m4/4\u001b[0m \u001b[32m━━━━━━━━━━━━━━━━━━━━\u001b[0m\u001b[37m\u001b[0m \u001b[1m0s\u001b[0m 9ms/step - accuracy: 1.0000 - loss: 0.0694 - val_accuracy: 1.0000 - val_loss: 0.0738\n",
      "Epoch 39/50\n",
      "\u001b[1m4/4\u001b[0m \u001b[32m━━━━━━━━━━━━━━━━━━━━\u001b[0m\u001b[37m\u001b[0m \u001b[1m0s\u001b[0m 9ms/step - accuracy: 1.0000 - loss: 0.0694 - val_accuracy: 1.0000 - val_loss: 0.0738\n",
      "Epoch 39/50\n",
      "\u001b[1m4/4\u001b[0m \u001b[32m━━━━━━━━━━━━━━━━━━━━\u001b[0m\u001b[37m\u001b[0m \u001b[1m0s\u001b[0m 9ms/step - accuracy: 1.0000 - loss: 0.0959 - val_accuracy: 1.0000 - val_loss: 0.0655\n",
      "Epoch 40/50\n",
      "\u001b[1m4/4\u001b[0m \u001b[32m━━━━━━━━━━━━━━━━━━━━\u001b[0m\u001b[37m\u001b[0m \u001b[1m0s\u001b[0m 9ms/step - accuracy: 1.0000 - loss: 0.0959 - val_accuracy: 1.0000 - val_loss: 0.0655\n",
      "Epoch 40/50\n",
      "\u001b[1m4/4\u001b[0m \u001b[32m━━━━━━━━━━━━━━━━━━━━\u001b[0m\u001b[37m\u001b[0m \u001b[1m0s\u001b[0m 9ms/step - accuracy: 1.0000 - loss: 0.0755 - val_accuracy: 1.0000 - val_loss: 0.0579\n",
      "Epoch 41/50\n",
      "\u001b[1m4/4\u001b[0m \u001b[32m━━━━━━━━━━━━━━━━━━━━\u001b[0m\u001b[37m\u001b[0m \u001b[1m0s\u001b[0m 9ms/step - accuracy: 1.0000 - loss: 0.0755 - val_accuracy: 1.0000 - val_loss: 0.0579\n",
      "Epoch 41/50\n",
      "\u001b[1m4/4\u001b[0m \u001b[32m━━━━━━━━━━━━━━━━━━━━\u001b[0m\u001b[37m\u001b[0m \u001b[1m0s\u001b[0m 9ms/step - accuracy: 1.0000 - loss: 0.0595 - val_accuracy: 1.0000 - val_loss: 0.0533\n",
      "Epoch 42/50\n",
      "\u001b[1m4/4\u001b[0m \u001b[32m━━━━━━━━━━━━━━━━━━━━\u001b[0m\u001b[37m\u001b[0m \u001b[1m0s\u001b[0m 9ms/step - accuracy: 1.0000 - loss: 0.0595 - val_accuracy: 1.0000 - val_loss: 0.0533\n",
      "Epoch 42/50\n",
      "\u001b[1m4/4\u001b[0m \u001b[32m━━━━━━━━━━━━━━━━━━━━\u001b[0m\u001b[37m\u001b[0m \u001b[1m0s\u001b[0m 9ms/step - accuracy: 1.0000 - loss: 0.0543 - val_accuracy: 1.0000 - val_loss: 0.0473\n",
      "Epoch 43/50\n",
      "\u001b[1m4/4\u001b[0m \u001b[32m━━━━━━━━━━━━━━━━━━━━\u001b[0m\u001b[37m\u001b[0m \u001b[1m0s\u001b[0m 9ms/step - accuracy: 1.0000 - loss: 0.0543 - val_accuracy: 1.0000 - val_loss: 0.0473\n",
      "Epoch 43/50\n",
      "\u001b[1m4/4\u001b[0m \u001b[32m━━━━━━━━━━━━━━━━━━━━\u001b[0m\u001b[37m\u001b[0m \u001b[1m0s\u001b[0m 9ms/step - accuracy: 1.0000 - loss: 0.0416 - val_accuracy: 1.0000 - val_loss: 0.0429\n",
      "Epoch 44/50\n",
      "\u001b[1m4/4\u001b[0m \u001b[32m━━━━━━━━━━━━━━━━━━━━\u001b[0m\u001b[37m\u001b[0m \u001b[1m0s\u001b[0m 9ms/step - accuracy: 1.0000 - loss: 0.0416 - val_accuracy: 1.0000 - val_loss: 0.0429\n",
      "Epoch 44/50\n",
      "\u001b[1m4/4\u001b[0m \u001b[32m━━━━━━━━━━━━━━━━━━━━\u001b[0m\u001b[37m\u001b[0m \u001b[1m0s\u001b[0m 9ms/step - accuracy: 1.0000 - loss: 0.0456 - val_accuracy: 1.0000 - val_loss: 0.0392\n",
      "Epoch 45/50\n",
      "\u001b[1m4/4\u001b[0m \u001b[32m━━━━━━━━━━━━━━━━━━━━\u001b[0m\u001b[37m\u001b[0m \u001b[1m0s\u001b[0m 9ms/step - accuracy: 1.0000 - loss: 0.0456 - val_accuracy: 1.0000 - val_loss: 0.0392\n",
      "Epoch 45/50\n",
      "\u001b[1m4/4\u001b[0m \u001b[32m━━━━━━━━━━━━━━━━━━━━\u001b[0m\u001b[37m\u001b[0m \u001b[1m0s\u001b[0m 9ms/step - accuracy: 1.0000 - loss: 0.0369 - val_accuracy: 1.0000 - val_loss: 0.0362\n",
      "Epoch 46/50\n",
      "\u001b[1m4/4\u001b[0m \u001b[32m━━━━━━━━━━━━━━━━━━━━\u001b[0m\u001b[37m\u001b[0m \u001b[1m0s\u001b[0m 9ms/step - accuracy: 1.0000 - loss: 0.0369 - val_accuracy: 1.0000 - val_loss: 0.0362\n",
      "Epoch 46/50\n",
      "\u001b[1m4/4\u001b[0m \u001b[32m━━━━━━━━━━━━━━━━━━━━\u001b[0m\u001b[37m\u001b[0m \u001b[1m0s\u001b[0m 9ms/step - accuracy: 1.0000 - loss: 0.0460 - val_accuracy: 1.0000 - val_loss: 0.0328\n",
      "Epoch 47/50\n",
      "\u001b[1m4/4\u001b[0m \u001b[32m━━━━━━━━━━━━━━━━━━━━\u001b[0m\u001b[37m\u001b[0m \u001b[1m0s\u001b[0m 9ms/step - accuracy: 1.0000 - loss: 0.0460 - val_accuracy: 1.0000 - val_loss: 0.0328\n",
      "Epoch 47/50\n",
      "\u001b[1m4/4\u001b[0m \u001b[32m━━━━━━━━━━━━━━━━━━━━\u001b[0m\u001b[37m\u001b[0m \u001b[1m0s\u001b[0m 9ms/step - accuracy: 1.0000 - loss: 0.0459 - val_accuracy: 1.0000 - val_loss: 0.0299\n",
      "Epoch 48/50\n",
      "\u001b[1m4/4\u001b[0m \u001b[32m━━━━━━━━━━━━━━━━━━━━\u001b[0m\u001b[37m\u001b[0m \u001b[1m0s\u001b[0m 9ms/step - accuracy: 1.0000 - loss: 0.0459 - val_accuracy: 1.0000 - val_loss: 0.0299\n",
      "Epoch 48/50\n",
      "\u001b[1m4/4\u001b[0m \u001b[32m━━━━━━━━━━━━━━━━━━━━\u001b[0m\u001b[37m\u001b[0m \u001b[1m0s\u001b[0m 21ms/step - accuracy: 1.0000 - loss: 0.0405 - val_accuracy: 1.0000 - val_loss: 0.0275\n",
      "Epoch 49/50\n",
      "\u001b[1m4/4\u001b[0m \u001b[32m━━━━━━━━━━━━━━━━━━━━\u001b[0m\u001b[37m\u001b[0m \u001b[1m0s\u001b[0m 21ms/step - accuracy: 1.0000 - loss: 0.0405 - val_accuracy: 1.0000 - val_loss: 0.0275\n",
      "Epoch 49/50\n",
      "\u001b[1m4/4\u001b[0m \u001b[32m━━━━━━━━━━━━━━━━━━━━\u001b[0m\u001b[37m\u001b[0m \u001b[1m0s\u001b[0m 9ms/step - accuracy: 1.0000 - loss: 0.0371 - val_accuracy: 1.0000 - val_loss: 0.0258\n",
      "Epoch 50/50\n",
      "\u001b[1m4/4\u001b[0m \u001b[32m━━━━━━━━━━━━━━━━━━━━\u001b[0m\u001b[37m\u001b[0m \u001b[1m0s\u001b[0m 9ms/step - accuracy: 1.0000 - loss: 0.0371 - val_accuracy: 1.0000 - val_loss: 0.0258\n",
      "Epoch 50/50\n",
      "\u001b[1m4/4\u001b[0m \u001b[32m━━━━━━━━━━━━━━━━━━━━\u001b[0m\u001b[37m\u001b[0m \u001b[1m0s\u001b[0m 9ms/step - accuracy: 1.0000 - loss: 0.0280 - val_accuracy: 1.0000 - val_loss: 0.0245\n",
      "\u001b[1m4/4\u001b[0m \u001b[32m━━━━━━━━━━━━━━━━━━━━\u001b[0m\u001b[37m\u001b[0m \u001b[1m0s\u001b[0m 9ms/step - accuracy: 1.0000 - loss: 0.0280 - val_accuracy: 1.0000 - val_loss: 0.0245\n"
     ]
    }
   ],
   "source": [
    "history = model.fit(X_train, y_train, epochs=50, batch_size=8, validation_data=(X_test, y_test))"
   ]
  },
  {
   "cell_type": "markdown",
   "id": "a199879e",
   "metadata": {},
   "source": [
    "## Evaluate Model"
   ]
  },
  {
   "cell_type": "code",
   "execution_count": 8,
   "id": "cef6dfba",
   "metadata": {},
   "outputs": [
    {
     "data": {
      "image/png": "[encoded data removed]",
      "text/plain": [
       "<Figure size 640x480 with 1 Axes>"
      ]
     },
     "metadata": {},
     "output_type": "display_data"
    },
    {
     "name": "stdout",
     "output_type": "stream",
     "text": [
      "\u001b[1m1/1\u001b[0m \u001b[32m━━━━━━━━━━━━━━━━━━━━\u001b[0m\u001b[37m\u001b[0m \u001b[1m0s\u001b[0m 136ms/step - accuracy: 1.0000 - loss: 0.0245\n",
      "\u001b[1m1/1\u001b[0m \u001b[32m━━━━━━━━━━━━━━━━━━━━\u001b[0m\u001b[37m\u001b[0m \u001b[1m0s\u001b[0m 136ms/step - accuracy: 1.0000 - loss: 0.0245\n",
      "Test Loss: 0.024461081251502037, Test Accuracy: 1.0\n",
      "Test Loss: 0.024461081251502037, Test Accuracy: 1.0\n"
     ]
    }
   ],
   "source": [
    "# Plot training history\n",
    "plt.plot(history.history['accuracy'], label='train_accuracy')\n",
    "plt.plot(history.history['val_accuracy'], label='val_accuracy')\n",
    "plt.xlabel('Epoch')\n",
    "plt.ylabel('Accuracy')\n",
    "plt.legend()\n",
    "plt.show()\n",
    "\n",
    "# Evaluate on test set\n",
    "loss, accuracy = model.evaluate(X_test, y_test)\n",
    "print(f\"Test Loss: {loss}, Test Accuracy: {accuracy}\")\n",
    "\n",
    "# Save model\n",
    "# Use native Keras format (.keras) instead of legacy HDF5\n",
    "model.save('../models/spell_recognition_model.keras')"
   ]
  },
  {
   "cell_type": "markdown",
   "id": "b84465bb",
   "metadata": {},
   "source": [
    "## Enregistrer vos propres échantillons (microphone)\n",
    "\n",
    "Utilisez le microphone pour enregistrer des échantillons audio que vous pouvez ajouter au dossier `datasets/audio/` pour enrichir l'entraînement.\n",
    "Les enregistrements seront sauvegardés au format WAV. Assurez-vous d'avoir `PyAudio` ou un backend compatible installé pour l'accès au microphone via `speech_recognition`."
   ]
  },
  {
   "cell_type": "code",
   "execution_count": 11,
   "id": "b95b286c",
   "metadata": {},
   "outputs": [],
   "source": [
    "import time\n",
    "import tempfile\n",
    "import wave\n",
    "\n",
    "def record_sample_microphone(spell, duration=3, filename=None, sample_rate=16000):\n",
    "    \"\"\"Record from the default microphone and save a WAV file.\n",
    "    Parameters:\n",
    "      spell: label/name of the spell (used in default filename)\n",
    "      duration: seconds to record (phrase_time_limit)\n",
    "      filename: optional path to save the WAV file\n",
    "    Returns: path to saved WAV file\n",
    "    \"\"\"\n",
    "    r = sr.Recognizer()\n",
    "    try:\n",
    "        with sr.Microphone(sample_rate=sample_rate) as source:\n",
    "            print(f\"Adjusting for ambient noise...\")\n",
    "            r.adjust_for_ambient_noise(source, duration=0.5)\n",
    "            print(f\"Recording for '{spell}' (max {duration}s). Please speak now...\")\n",
    "            audio = r.listen(source, phrase_time_limit=duration)\n",
    "    except Exception as e:\n",
    "        print('Microphone recording failed:', e)\n",
    "        return None\n",
    "\n",
    "    # Get WAV bytes and write to file\n",
    "    wav_bytes = audio.get_wav_data(convert_rate=sample_rate, convert_width=2)\n",
    "    if filename is None:\n",
    "        safe_name = spell.replace(' ', '_')\n",
    "        filename = os.path.join(audio_dir, f\"{safe_name}_manual_{int(time.time())}.wav\")\n",
    "    try:\n",
    "        with open(filename, 'wb') as f:\n",
    "            f.write(wav_bytes)\n",
    "        print('Saved', filename)\n",
    "        return filename\n",
    "    except Exception as e:\n",
    "        print('Failed to save WAV file:', e)\n",
    "        return None\n",
    "\n",
    "def record_for_spell(spell, n=3, duration=3):\n",
    "    \"Record n samples for a given spell and save them to the audio directory.\"\n",
    "    saved = []\n",
    "    for i in range(n):\n",
    "        print(f'[{i+1}/{n}] Prepare to record for \"{spell}\"')\n",
    "        p = record_sample_microphone(spell, duration=duration)\n",
    "        if p:\n",
    "            saved.append(p)\n",
    "        time.sleep(0.5)\n",
    "    print(f'Recorded {len(saved)} files for {spell}')\n",
    "    return saved\n",
    "\n",
    "# Example usage (uncomment to use):\n",
    "# record_for_spell('Avada Kedavra', n=3, duration=2)"
   ]
  },
  {
   "cell_type": "markdown",
   "id": "0fba9140",
   "metadata": {},
   "source": [
    "## Reconnaissance en direct (microphone)\n",
    "\n",
    "Utilisez le modèle entraîné pour reconnaître un sort dit au microphone. Ce cell suppose que `vectorizer`, `model` et `le` (LabelEncoder) sont en mémoire (exécutez les cellules précédentes si nécessaire)."
   ]
  },
  {
   "cell_type": "code",
   "execution_count": 12,
   "id": "55a4fb70",
   "metadata": {},
   "outputs": [
    {
     "name": "stdout",
     "output_type": "stream",
     "text": [
      "Microphone recording failed: Could not find PyAudio; check installation\n",
      "Recording failed; cannot recognize\n"
     ]
    }
   ],
   "source": [
    "import tempfile\n",
    "\n",
    "def recognize_from_microphone(duration=3):\n",
    "    \"Record from microphone, transcribe, vectorize and predict the spell using the trained model.\"\n",
    "    # Ensure prerequisites are available\n",
    "    missing = []\n",
    "    for v in ['vectorizer', 'model', 'le']:\n",
    "        if v not in globals():\n",
    "            missing.append(v)\n",
    "    if missing:\n",
    "        print('Missing required objects in memory:', missing)\n",
    "        print('Please run the training cells to create vectorizer, model and le.')\n",
    "        return None\n",
    "\n",
    "    # Record a short sample to a temp file\n",
    "    tmp = tempfile.NamedTemporaryFile(delete=False, suffix='.wav')\n",
    "    tmp_name = tmp.name\n",
    "    tmp.close()\n",
    "    p = record_sample_microphone('live_sample', duration=duration, filename=tmp_name)\n",
    "    if not p:\n",
    "        print('Recording failed; cannot recognize')\n",
    "        return None\n",
    "\n",
    "    # Extract text (uses the same extract_features function defined earlier)\n",
    "    text = extract_features(tmp_name)\n",
    "    if not text:\n",
    "        print('Speech could not be transcribed reliably')\n",
    "        return None\n",
    "    X_live = vectorizer.transform([text]).toarray()\n",
    "    probs = model.predict(X_live)\n",
    "    idx = int(np.argmax(probs, axis=1)[0])\n",
    "    predicted = le.inverse_transform([idx])[0]\n",
    "    print(f'Predicted spell: {predicted} (text: \"{text}\")')\n",
    "    return predicted\n",
    "\n",
    "# Example usage (uncomment to use):\n",
    "recognize_from_microphone(duration=3)"
   ]
  }
 ],
 "metadata": {
  "kernelspec": {
   "display_name": ".venv",
   "language": "python",
   "name": "python3"
  },
  "language_info": {
   "codemirror_mode": {
    "name": "ipython",
    "version": 3
   },
   "file_extension": ".py",
   "mimetype": "text/x-python",
   "name": "python",
   "nbconvert_exporter": "python",
   "pygments_lexer": "ipython3",
   "version": "3.13.7"
  }
 },
 "nbformat": 4,
 "nbformat_minor": 5
}
